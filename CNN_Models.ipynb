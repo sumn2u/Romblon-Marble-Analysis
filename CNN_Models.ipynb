{
  "cells": [
    {
      "cell_type": "code",
      "execution_count": null,
      "metadata": {
        "colab": {
          "base_uri": "https://localhost:8080/"
        },
        "id": "4gr-Rl4OjaeW",
        "outputId": "78b316b9-9784-40ab-c291-bdaf25f6eab7"
      },
      "outputs": [
        {
          "output_type": "stream",
          "name": "stdout",
          "text": [
            "Mounted at /content/drive\n"
          ]
        }
      ],
      "source": [
        "from google.colab import drive\n",
        "drive.mount('/content/drive')"
      ]
    },
    {
      "cell_type": "code",
      "execution_count": null,
      "metadata": {
        "id": "M5_SeJMKkwql",
        "colab": {
          "base_uri": "https://localhost:8080/"
        },
        "outputId": "43bf7f09-1fae-4974-f50b-c6a464602650"
      },
      "outputs": [
        {
          "output_type": "stream",
          "name": "stdout",
          "text": [
            " gaussian_noise.html\t    nephub.gscript\t    vida.html\n",
            "'Genetic Algorithm.ipynb'   saftey\t\t    visitnepal2020\n",
            "'Getting started.pdf'\t    sigmoid.html\n",
            " marble\t\t\t    training_example.html\n"
          ]
        }
      ],
      "source": [
        "!ls \"/content/drive/My Drive\""
      ]
    },
    {
      "cell_type": "code",
      "execution_count": null,
      "metadata": {
        "id": "HPc68OoGkz3V"
      },
      "outputs": [],
      "source": [
        "!cp -r \"/content/drive/My Drive/marble\" \"marble\""
      ]
    },
    {
      "cell_type": "code",
      "execution_count": null,
      "metadata": {
        "colab": {
          "base_uri": "https://localhost:8080/"
        },
        "id": "cR0gKH5GldtF",
        "outputId": "24b7669c-f598-4d43-ec2b-142da42b4b47"
      },
      "outputs": [
        {
          "output_type": "stream",
          "name": "stdout",
          "text": [
            "'CNN Models.ipynb'   inception.h5       resnet50.h5   vgg19.h5\n",
            " GA.h5\t\t    'marble datasets'   vgg16.h5\n"
          ]
        }
      ],
      "source": [
        "!ls \"/content/marble\""
      ]
    },
    {
      "cell_type": "code",
      "execution_count": null,
      "metadata": {
        "colab": {
          "base_uri": "https://localhost:8080/"
        },
        "id": "3iS1_-Pz9F8Y",
        "outputId": "32ff2ad0-4a7f-46f3-a42b-13f9a779dee2"
      },
      "outputs": [
        {
          "output_type": "stream",
          "name": "stdout",
          "text": [
            "Total number of images in CLASS A 164\n",
            "Total number of images in CLASS B 245\n",
            "Total number of images in CLASS C 494\n"
          ]
        }
      ],
      "source": [
        "# create final dataset.the training  dataset consits of (0.8 * 0.8 * T), the valdation dataset (0.2 * 0.8 * T) and (0.2 * T) testing images.\n",
        "# x_train: Numpy arrays of the images of the training dataset\n",
        "# y_train: Labels of the training dataset\n",
        "# x_test: Numpy arrays of the images of the testing dataset\n",
        "# y_test: Labels of the testing dataset\n",
        "# x_val: Numpy arrays of the images of the validation dataset\n",
        "# y_val: Labels of the validation dataset\n",
        "\n",
        "from tensorflow.keras.layers import  Convolution2D, MaxPooling2D, Input, Lambda, Dense, Flatten, Dropout, BatchNormalization\n",
        "from tensorflow.keras.models import Model\n",
        "from tensorflow.keras.applications.vgg19 import VGG19\n",
        "from tensorflow.keras.applications.vgg16 import VGG16\n",
        "from tensorflow.keras.applications.inception_v3 import InceptionV3\n",
        "from tensorflow.keras.applications.resnet50 import ResNet50\n",
        "from tensorflow.keras.applications.vgg19 import preprocess_input\n",
        "from tensorflow.keras.preprocessing import image\n",
        "from tensorflow.keras.preprocessing.image import ImageDataGenerator\n",
        "from tensorflow.keras.models import Sequential\n",
        "from keras.callbacks import ReduceLROnPlateau\n",
        "from sklearn.metrics import classification_report\n",
        "\n",
        "import tensorflow as tf\n",
        "import numpy as np\n",
        "import pandas as pd\n",
        "import os\n",
        "import cv2\n",
        "import matplotlib.pyplot as plt\n",
        "import glob\n",
        "\n",
        "#count the number of images in respective directory\n",
        "import fnmatch\n",
        "print( \"Total number of images in CLASS A\", len(fnmatch.filter(os.listdir(\"/content/marble/marble datasets/CLASS A\"), '*.jpg')));\n",
        "print( \"Total number of images in CLASS B\", len(fnmatch.filter(os.listdir(\"/content/marble/marble datasets/CLASS B\"), '*.jpg')));\n",
        "print( \"Total number of images in CLASS C\", len(fnmatch.filter(os.listdir(\"/content/marble/marble datasets/CLASS C\"), '*.jpg')));"
      ]
    },
    {
      "cell_type": "code",
      "execution_count": null,
      "metadata": {
        "colab": {
          "base_uri": "https://localhost:8080/"
        },
        "id": "oTiOf2igAk1P",
        "outputId": "9774db18-20af-41e9-835d-2728afcb151d"
      },
      "outputs": [
        {
          "output_type": "stream",
          "name": "stdout",
          "text": [
            "Looking in indexes: https://pypi.org/simple, https://us-python.pkg.dev/colab-wheels/public/simple/\n",
            "Collecting python_splitter\n",
            "  Downloading python_splitter-0.0.3-py3-none-any.whl (5.2 kB)\n",
            "Requirement already satisfied: numpy in /usr/local/lib/python3.8/dist-packages (from python_splitter) (1.21.6)\n",
            "Installing collected packages: python-splitter\n",
            "Successfully installed python-splitter-0.0.3\n",
            "✅Checking SOURCE directory...\n",
            "0.64 0.2 0.16\n",
            "✅Checking percentage validation...\n",
            "✅Making required directories...\n",
            "✅Shuffling data...\n",
            "✅Getting ready for copying files...\n",
            "\n",
            "-------------Successfully splitted !!!--------------- \n"
          ]
        }
      ],
      "source": [
        "# split dataset into train_test_folder\n",
        "! pip install python_splitter \n",
        "import python_splitter\n",
        "python_splitter.split_from_folder(\"/content/marble/marble datasets\", train=0.64, test=0.16, val=0.2)"
      ]
    },
    {
      "cell_type": "code",
      "execution_count": null,
      "metadata": {
        "id": "7hcFRc3vfAbI"
      },
      "outputs": [],
      "source": [
        "def get_files(directory):\n",
        "  if not os.path.exists(directory):\n",
        "    return 0\n",
        "  count=0\n",
        "  # crawls inside folders\n",
        "  for current_path,dirs,files in os.walk(directory):\n",
        "    for dr in dirs:\n",
        "      count+= len(glob.glob(os.path.join(current_path,dr+\"/*\")))\n",
        "  return count\n",
        "train_dir =\"Train_Test_Folder/train\"\n",
        "test_dir=\"Train_Test_Folder/test\""
      ]
    },
    {
      "cell_type": "code",
      "execution_count": null,
      "metadata": {
        "colab": {
          "base_uri": "https://localhost:8080/"
        },
        "id": "y821l6ryfMDe",
        "outputId": "a06ece01-bd66-429f-d562-517b64d347b1"
      },
      "outputs": [
        {
          "output_type": "stream",
          "name": "stdout",
          "text": [
            "3 Classes\n",
            "576 Train images\n",
            "181 Test images\n"
          ]
        }
      ],
      "source": [
        "#train file image count\n",
        "train_samples =get_files(train_dir)\n",
        "#to get tags\n",
        "num_classes=len(glob.glob(train_dir+\"/*\")) \n",
        "#test file image count\n",
        "test_samples=get_files(test_dir)\n",
        "print(num_classes,\"Classes\")\n",
        "print(train_samples,\"Train images\")\n",
        "print(test_samples,\"Test images\")"
      ]
    },
    {
      "cell_type": "code",
      "execution_count": null,
      "metadata": {
        "id": "KCXlr76nfSpR"
      },
      "outputs": [],
      "source": [
        "train_datagen=ImageDataGenerator(\n",
        "    rescale=1./255,\n",
        "    shear_range=0.2,\n",
        "    zoom_range=0.2,\n",
        "    horizontal_flip=True\n",
        "    )\n",
        "test_datagen=ImageDataGenerator(rescale=1./255)\n"
      ]
    },
    {
      "cell_type": "code",
      "execution_count": null,
      "metadata": {
        "colab": {
          "base_uri": "https://localhost:8080/"
        },
        "id": "wXFANXL7fX7i",
        "outputId": "6408562f-cb3a-455b-e230-23e6b36d3826"
      },
      "outputs": [
        {
          "output_type": "stream",
          "name": "stdout",
          "text": [
            "Found 576 images belonging to 3 classes.\n",
            "Found 181 images belonging to 3 classes.\n"
          ]
        }
      ],
      "source": [
        "input_shape=(224,224,3)\n",
        "train_generator =train_datagen.flow_from_directory(train_dir,target_size=(224,224),batch_size=32)\n",
        "test_generator=test_datagen.flow_from_directory(test_dir,shuffle=True,target_size=(224,224),batch_size=32)"
      ]
    },
    {
      "cell_type": "code",
      "execution_count": null,
      "metadata": {
        "id": "f2J509p4fieb"
      },
      "outputs": [],
      "source": [
        "def create_Base_model_from_InceptionV3():\n",
        "    IMAGE_SIZE = [224, 224]\n",
        "    model_inceptionV3 = InceptionV3( \n",
        "        weights = \"imagenet\",# control point from which model is started\n",
        "        include_top=False, # to include/exclude the first 3 layers\n",
        "        input_shape = IMAGE_SIZE + [3],)\n",
        "    # We don't need to train existing weights\n",
        "    for layer in model_inceptionV3.layers:\n",
        "        layer.trainable = False\n",
        "    return model_inceptionV3"
      ]
    },
    {
      "cell_type": "code",
      "execution_count": null,
      "metadata": {
        "colab": {
          "base_uri": "https://localhost:8080/"
        },
        "id": "R41uU2PEnnHp",
        "outputId": "c8c0980f-ab10-404a-f9ec-19a91305fea2"
      },
      "outputs": [
        {
          "output_type": "stream",
          "name": "stdout",
          "text": [
            "Downloading data from https://storage.googleapis.com/tensorflow/keras-applications/inception_v3/inception_v3_weights_tf_dim_ordering_tf_kernels_notop.h5\n",
            "87910968/87910968 [==============================] - 1s 0us/step\n"
          ]
        }
      ],
      "source": [
        "inception = create_Base_model_from_InceptionV3();\n",
        "x = Flatten()(inception.output)\n",
        "prediction = Dense(num_classes, activation='softmax')(x)\n",
        "model = Model(inputs=inception.input, outputs=prediction)"
      ]
    },
    {
      "cell_type": "code",
      "execution_count": null,
      "metadata": {
        "id": "QiEkE_n5rh0p"
      },
      "outputs": [],
      "source": [
        "def create_Base_model_from_VGG16():  \n",
        "    model = VGG16(\n",
        "        weights = \"imagenet\",\n",
        "        include_top=False, \n",
        "        input_shape = (224,224, 3) # goruntu boyutu\n",
        "        ) \n",
        "    for layer in model.layers:\n",
        "      layer.trainable = False\n",
        "    return model "
      ]
    },
    {
      "cell_type": "code",
      "execution_count": null,
      "metadata": {
        "id": "VRgEHCiQs2uH"
      },
      "outputs": [],
      "source": [
        "def add_custom_layers_VGG16():\n",
        "    model = create_Base_model_from_VGG16()\n",
        "    x = model.output\n",
        "    x = tf.keras.layers.Flatten()(x)\n",
        "    x = tf.keras.layers.Dense(256, activation=\"relu\")(x)\n",
        "    predictions = tf.keras.layers.Dense(num_classes, activation=\"softmax\")(x)   \n",
        "    # creating the final model \n",
        "    final_model = tf.keras.models.Model(\n",
        "        inputs = model.input, \n",
        "        outputs = predictions)\n",
        "     \n",
        "  \n",
        "    return final_model\n",
        "\n",
        "# add_custom_layers_VGG16().summary()"
      ]
    },
    {
      "cell_type": "code",
      "execution_count": null,
      "metadata": {
        "id": "szO5Ew9CxCFM"
      },
      "outputs": [],
      "source": [
        "def create_Base_model_from_VGG19():  \n",
        "    model_vgg19 = VGG19(\n",
        "        weights = \"imagenet\",# control point from which model is started\n",
        "        include_top=False, # to include/exclude the first 3 layers\n",
        "        input_shape = (224,224, 3)) # image size\n",
        "    # don't train existing weights \n",
        "    for layer in model_vgg19.layers:\n",
        "      layer.trainable = False\n",
        "    return model_vgg19 \n",
        "# create_Base_model_from_VGG19().summary()"
      ]
    },
    {
      "cell_type": "code",
      "execution_count": null,
      "metadata": {
        "id": "eMlpaKuGxLC1"
      },
      "outputs": [],
      "source": [
        "def add_custom_layers_vgg19():\n",
        "    #Adding custom Layers \n",
        "    model_vgg19 = create_Base_model_from_VGG19()\n",
        "    x = model_vgg19.output\n",
        "    x = tf.keras.layers.Flatten()(x)\n",
        "    x = tf.keras.layers.Dense(256, activation=\"relu\")(x)\n",
        "    predictions = tf.keras.layers.Dense(num_classes, activation=\"softmax\")(x)   \n",
        "    # creating the final model \n",
        "    final_model = tf.keras.models.Model(\n",
        "        inputs = model_vgg19.input, \n",
        "        outputs = predictions)\n",
        "     \n",
        "    final_model.compile(loss='categorical_crossentropy', optimizer='adam', metrics=['accuracy'])  \n",
        "    return final_model\n",
        "\n",
        "# add_custom_layers_vgg19().summary()"
      ]
    },
    {
      "cell_type": "code",
      "execution_count": null,
      "metadata": {
        "id": "lgYN0PVqzm8V"
      },
      "outputs": [],
      "source": [
        "def create_Base_model_from_ResNet50():\n",
        "    model_resNet50 = ResNet50( \n",
        "        weights = \"imagenet\",# control point from which model is started\n",
        "        include_top=False,\n",
        "        pooling='avg',\n",
        "        input_shape = (224,224, 3))\n",
        "    # We don't need to train existing weights\n",
        "    model_resNet50.trainable = False\n",
        "    return model_resNet50\n",
        "\n",
        "\n",
        "pretrained_model= create_Base_model_from_ResNet50()\n",
        "inputs = pretrained_model.input\n",
        "\n",
        "x = Dense(128, activation='relu')(pretrained_model.output)\n",
        "x = Dense(128, activation='relu')(x)\n",
        "\n",
        "outputs = Dense(num_classes, activation='softmax')(x)\n",
        "\n",
        "model = Model(inputs=inputs, outputs=outputs)"
      ]
    },
    {
      "cell_type": "code",
      "execution_count": null,
      "metadata": {
        "id": "9eE9jwAU5qS4"
      },
      "outputs": [],
      "source": [
        "\n",
        "def alexnet():\n",
        "    #Adding custom Layers \n",
        "    # Initializing the CNN\n",
        "    model = Sequential()\n",
        "    # Convolution Step 1\n",
        "    model.add(Convolution2D(96, 11, strides = (4, 4), padding = 'valid', input_shape=(224, 224, 3), activation = 'relu'))\n",
        "    # Max Pooling Step 1\n",
        "    model.add(MaxPooling2D(pool_size = (2, 2), strides = (2, 2), padding = 'valid'))\n",
        "    model.add(BatchNormalization())\n",
        "    # Convolution Step 2\n",
        "    model.add(Convolution2D(256, 11, strides = (1, 1), padding='valid', activation = 'relu'))\n",
        "    # Max Pooling Step 2\n",
        "    model.add(MaxPooling2D(pool_size = (2, 2), strides = (2, 2), padding='valid'))\n",
        "    model.add(BatchNormalization())\n",
        "    # Convolution Step 3\n",
        "    model.add(Convolution2D(384, 3, strides = (1, 1), padding='valid', activation = 'relu'))\n",
        "    model.add(BatchNormalization())\n",
        "    # Convolution Step 4\n",
        "    model.add(Convolution2D(384, 3, strides = (1, 1), padding='valid', activation = 'relu'))\n",
        "    model.add(BatchNormalization())\n",
        "    # Convolution Step 5\n",
        "    model.add(Convolution2D(256, 3, strides=(1,1), padding='valid', activation = 'relu'))\n",
        "    # Max Pooling Step 3\n",
        "    model.add(MaxPooling2D(pool_size = (2, 2), strides = (2, 2), padding = 'valid'))\n",
        "    model.add(BatchNormalization())\n",
        "    # Flattening Step\n",
        "    model.add(Flatten())\n",
        "    # Full Connection Step\n",
        "    model.add(Dense(units = 4096, activation = 'relu'))\n",
        "    model.add(Dropout(0.4))\n",
        "    model.add(BatchNormalization())\n",
        "    model.add(Dense(units = 4096, activation = 'relu'))\n",
        "    model.add(Dropout(0.4))\n",
        "    model.add(BatchNormalization())\n",
        "    model.add(Dense(units = 1000, activation = 'relu'))\n",
        "    model.add(Dropout(0.2))\n",
        "    model.add(BatchNormalization())\n",
        "    model.add(Dense(units = num_classes, activation = 'softmax'))\n",
        "    \n",
        "    return model\n",
        "\n",
        "# add_custom_layers_vgg19().summary()"
      ]
    },
    {
      "cell_type": "code",
      "execution_count": null,
      "metadata": {
        "id": "3M5V2qjhsMhO"
      },
      "outputs": [],
      "source": [
        "# model = add_custom_layers_vgg19()\n",
        "# model = add_custom_layers()\n",
        "# model = alexnet()\n",
        "# model = add_custom_layers_VGG16()\n",
        "model = create_Base_model_from_ResNet50()"
      ]
    },
    {
      "cell_type": "code",
      "execution_count": null,
      "metadata": {
        "id": "bX-K1e4anv3D"
      },
      "outputs": [],
      "source": [
        "model.compile(loss='categorical_crossentropy',optimizer='adam',metrics=['accuracy'])"
      ]
    },
    {
      "cell_type": "code",
      "execution_count": null,
      "metadata": {
        "colab": {
          "base_uri": "https://localhost:8080/"
        },
        "id": "dM8urCc_fqZP",
        "outputId": "f6002b86-b8d5-4f15-dcb3-624560252e57"
      },
      "outputs": [
        {
          "output_type": "stream",
          "name": "stdout",
          "text": [
            "Found 181 images belonging to 3 classes.\n"
          ]
        }
      ],
      "source": [
        "validation_generator = train_datagen.flow_from_directory(\n",
        "                       test_dir,\n",
        "                       target_size=(224, 224),\n",
        "                       batch_size=32)"
      ]
    },
    {
      "cell_type": "code",
      "execution_count": null,
      "metadata": {
        "colab": {
          "base_uri": "https://localhost:8080/"
        },
        "id": "ghhC9PH5gGQb",
        "outputId": "44c72bba-ed51-4406-f5e4-65884058c9e0"
      },
      "outputs": [
        {
          "output_type": "stream",
          "name": "stdout",
          "text": [
            "Found 576 images belonging to 3 classes.\n"
          ]
        }
      ],
      "source": [
        "train_generator =train_datagen.flow_from_directory(train_dir,target_size=(224,224),batch_size=32)"
      ]
    },
    {
      "cell_type": "code",
      "execution_count": null,
      "metadata": {
        "colab": {
          "base_uri": "https://localhost:8080/"
        },
        "id": "n9YfB94nf-kS",
        "outputId": "9c164ef7-1b38-4b7b-bac2-fa1c2b7f3f43"
      },
      "outputs": [
        {
          "output_type": "stream",
          "name": "stdout",
          "text": [
            "Epoch 1/20\n",
            "18/18 [==============================] - 89s 5s/step - loss: 1.0461 - accuracy: 0.5017 - val_loss: 0.9255 - val_accuracy: 0.5781\n",
            "Epoch 2/20\n",
            "18/18 [==============================] - 81s 5s/step - loss: 0.9483 - accuracy: 0.5486 - val_loss: 0.9407 - val_accuracy: 0.5312\n",
            "Epoch 3/20\n",
            "18/18 [==============================] - 82s 5s/step - loss: 0.9145 - accuracy: 0.5503 - val_loss: 0.8943 - val_accuracy: 0.6016\n",
            "Epoch 4/20\n",
            "18/18 [==============================] - 81s 5s/step - loss: 0.8778 - accuracy: 0.5764 - val_loss: 0.8143 - val_accuracy: 0.5625\n",
            "Epoch 5/20\n",
            "18/18 [==============================] - 81s 5s/step - loss: 0.8865 - accuracy: 0.5486 - val_loss: 0.8419 - val_accuracy: 0.5156\n",
            "Epoch 6/20\n",
            "18/18 [==============================] - 81s 5s/step - loss: 0.8333 - accuracy: 0.5660 - val_loss: 0.7644 - val_accuracy: 0.6328\n",
            "Epoch 7/20\n",
            "18/18 [==============================] - 82s 5s/step - loss: 0.7928 - accuracy: 0.6024 - val_loss: 0.8092 - val_accuracy: 0.5000\n",
            "Epoch 8/20\n",
            "18/18 [==============================] - 81s 5s/step - loss: 0.7837 - accuracy: 0.5990 - val_loss: 0.7347 - val_accuracy: 0.6328\n",
            "Epoch 9/20\n",
            "18/18 [==============================] - 81s 5s/step - loss: 0.7898 - accuracy: 0.5868 - val_loss: 0.7966 - val_accuracy: 0.5859\n",
            "Epoch 10/20\n",
            "18/18 [==============================] - 82s 5s/step - loss: 0.7758 - accuracy: 0.5677 - val_loss: 0.7372 - val_accuracy: 0.6016\n",
            "Epoch 11/20\n",
            "18/18 [==============================] - 81s 5s/step - loss: 0.7518 - accuracy: 0.6406 - val_loss: 0.7032 - val_accuracy: 0.6562\n",
            "Epoch 12/20\n",
            "18/18 [==============================] - 81s 5s/step - loss: 0.7819 - accuracy: 0.6111 - val_loss: 0.6821 - val_accuracy: 0.5547\n",
            "Epoch 13/20\n",
            "18/18 [==============================] - 81s 5s/step - loss: 0.7783 - accuracy: 0.5903 - val_loss: 0.6867 - val_accuracy: 0.5703\n",
            "Epoch 14/20\n",
            "18/18 [==============================] - 81s 5s/step - loss: 0.7927 - accuracy: 0.5694 - val_loss: 0.7133 - val_accuracy: 0.7500\n",
            "Epoch 15/20\n",
            "18/18 [==============================] - 81s 5s/step - loss: 0.7410 - accuracy: 0.6719 - val_loss: 0.6526 - val_accuracy: 0.6797\n",
            "Epoch 16/20\n",
            "18/18 [==============================] - 81s 5s/step - loss: 0.7228 - accuracy: 0.6267 - val_loss: 0.6153 - val_accuracy: 0.6797\n",
            "Epoch 17/20\n",
            "18/18 [==============================] - 81s 5s/step - loss: 0.7146 - accuracy: 0.6719 - val_loss: 0.6337 - val_accuracy: 0.7656\n",
            "Epoch 18/20\n",
            "18/18 [==============================] - 81s 5s/step - loss: 0.7022 - accuracy: 0.6580 - val_loss: 0.6689 - val_accuracy: 0.6719\n",
            "Epoch 19/20\n",
            "18/18 [==============================] - 81s 5s/step - loss: 0.7722 - accuracy: 0.5903 - val_loss: 0.7866 - val_accuracy: 0.6094\n"
          ]
        }
      ],
      "source": [
        "# uncomment it for ResNet50\n",
        "# from keras.callbacks import ModelCheckpoint, EarlyStopping\n",
        "# my_callbacks  = [EarlyStopping(monitor='val_loss',min_delta=0,patience=3,mode='auto')]\n",
        "# history = model.fit(\n",
        "#     train_generator,\n",
        "#     validation_data=validation_generator,\n",
        "#     epochs=20,\n",
        "#     callbacks=my_callbacks,\n",
        "#     verbose=1,\n",
        "#     steps_per_epoch=None,\n",
        "#     validation_steps=4\n",
        "# )\n",
        "\n",
        "history = model.fit(\n",
        "            train_generator,#egitim verileri\n",
        "            steps_per_epoch=None,\n",
        "            epochs=20, #use 5 for vgg16\n",
        "            validation_data=validation_generator,\n",
        "            validation_steps=None,\n",
        "            verbose=1,\n",
        "            callbacks=[ReduceLROnPlateau(monitor='val_loss', factor=0.3,patience=3, min_lr=0.000001)],\n",
        "            shuffle=True\n",
        "            )"
      ]
    },
    {
      "cell_type": "code",
      "source": [
        "from tensorflow.keras.models import load_model\n",
        "import numpy as np\n",
        "model = load_model(\"GA.h5\")\n"
      ],
      "metadata": {
        "id": "5bKiiH6tvoJP"
      },
      "execution_count": null,
      "outputs": []
    },
    {
      "cell_type": "code",
      "execution_count": null,
      "metadata": {
        "colab": {
          "base_uri": "https://localhost:8080/",
          "height": 545
        },
        "id": "a2dZq2TAoOSY",
        "outputId": "e40498a6-5973-4661-b483-b43729aea1ec"
      },
      "outputs": [
        {
          "output_type": "display_data",
          "data": {
            "text/plain": [
              "<Figure size 432x288 with 1 Axes>"
            ],
            "image/png": "[encoded data removed]"
          },
          "metadata": {
            "needs_background": "light"
          }
        },
        {
          "output_type": "display_data",
          "data": {
            "text/plain": [
              "<Figure size 432x288 with 1 Axes>"
            ],
            "image/png": "[encoded data removed]"
          },
          "metadata": {
            "needs_background": "light"
          }
        }
      ],
      "source": [
        "pd.DataFrame(history.history)[['accuracy','val_accuracy']].plot()\n",
        "plt.title(\"Accuracy\")\n",
        "plt.show()\n",
        "\n",
        "pd.DataFrame(history.history)[['loss','val_loss']].plot()\n",
        "plt.title(\"Loss\")\n",
        "plt.show()"
      ]
    },
    {
      "cell_type": "code",
      "execution_count": null,
      "metadata": {
        "colab": {
          "base_uri": "https://localhost:8080/"
        },
        "id": "ngHL5tGvoUkv",
        "outputId": "2fbae72d-908e-4599-8ace-d4c18ef6808e"
      },
      "outputs": [
        {
          "output_type": "stream",
          "name": "stdout",
          "text": [
            "[INFO] Calculating model accuracy\n",
            "6/6 [==============================] - 26s 3s/step - loss: 0.0903 - accuracy: 0.9558\n",
            "Test Accuracy: 95.58011293411255\n"
          ]
        }
      ],
      "source": [
        "print(\"[INFO] Calculating model accuracy\")\n",
        "scores = model.evaluate(validation_generator)\n",
        "print(f\"Test Accuracy: {scores[1]*100}\")"
      ]
    },
    {
      "cell_type": "code",
      "execution_count": null,
      "metadata": {
        "colab": {
          "base_uri": "https://localhost:8080/"
        },
        "id": "uLxqMWZqmFH8",
        "outputId": "a12de636-f19b-4070-ad14-1a2fda756d55"
      },
      "outputs": [
        {
          "output_type": "stream",
          "name": "stdout",
          "text": [
            "6/6 [==============================] - 19s 3s/step\n",
            "              precision    recall  f1-score   support\n",
            "\n",
            "     Class 0       0.18      0.18      0.18        33\n",
            "     Class 1       0.32      0.31      0.31        49\n",
            "     Class 2       0.51      0.53      0.52        99\n",
            "\n",
            "    accuracy                           0.40       181\n",
            "   macro avg       0.34      0.34      0.34       181\n",
            "weighted avg       0.40      0.40      0.40       181\n",
            "\n"
          ]
        }
      ],
      "source": [
        "predicted_classes = model.predict(test_generator)\n",
        "predicted_classes = np.argmax(predicted_classes, axis=1)\n",
        "\n",
        "num_classes = 3\n",
        "train_y=test_generator.classes\n",
        "target_names = [f\"Class {i}\" for i in range(num_classes)]\n",
        "\n",
        "print(classification_report(train_y, predicted_classes, target_names = target_names))"
      ]
    },
    {
      "cell_type": "code",
      "source": [
        "from sklearn.metrics import roc_auc_score\n",
        "print(roc_auc_score(train_y,  model.predict(test_generator), multi_class='ovo'));\n",
        "# print(model.evaluate(test_x, test_y, verbose=0)[0])"
      ],
      "metadata": {
        "id": "K84_-aHb2j62",
        "colab": {
          "base_uri": "https://localhost:8080/"
        },
        "outputId": "037dbb5e-3ee5-4566-e823-f5badf7c3d2e"
      },
      "execution_count": null,
      "outputs": [
        {
          "output_type": "stream",
          "name": "stdout",
          "text": [
            "6/6 [==============================] - 19s 3s/step\n",
            "0.5089385922719255\n"
          ]
        }
      ]
    },
    {
      "cell_type": "code",
      "execution_count": null,
      "metadata": {
        "id": "6dKjgGCGrEbz"
      },
      "outputs": [],
      "source": [
        "model.save('resnet50.h5')"
      ]
    },
    {
      "cell_type": "code",
      "execution_count": null,
      "metadata": {
        "id": "skEpmTpCoYik",
        "colab": {
          "base_uri": "https://localhost:8080/",
          "height": 304
        },
        "outputId": "a45df7cc-2b34-49ce-ae14-0dd0afce7159"
      },
      "outputs": [
        {
          "output_type": "stream",
          "name": "stdout",
          "text": [
            "1/1 [==============================] - 1s 1s/step\n",
            "CLASS A\n"
          ]
        },
        {
          "output_type": "display_data",
          "data": {
            "text/plain": [
              "<Figure size 432x288 with 1 Axes>"
            ],
            "image/png": "[encoded data removed]"
          },
          "metadata": {
            "needs_background": "light"
          }
        }
      ],
      "source": [
        "classes=list(train_generator.class_indices.keys())\n",
        "# Pre-Processing test data same as train data.\n",
        "def prepare(img_path):\n",
        "    img = image.load_img(img_path, target_size=(224,224))\n",
        "    x = image.img_to_array(img)\n",
        "    x = x/255\n",
        "    return np.expand_dims(x, axis=0)\n",
        "    \n",
        "img_url='Train_Test_Folder/val/CLASS A/IMG_20220811_093439_1.jpg'\n",
        "model_result = model.predict([prepare(img_url)])\n",
        "disease=image.load_img(img_url)\n",
        "plt.imshow(disease)\n",
        "\n",
        "classresult=np.argmax(model_result,axis=1)\n",
        "print(classes[classresult[0]])"
      ]
    },
    {
      "cell_type": "code",
      "source": [
        "from tensorflow.keras.callbacks import EarlyStopping\n",
        "\n",
        "def init():\n",
        "    # our layers - you can add more if you want\n",
        "    model = add_custom_layers_VGG16()\n",
        "    model.compile(loss='categorical_crossentropy',optimizer='adam',metrics=['accuracy'])\n",
        "    return model\n",
        "\n",
        "\n",
        "def train(models):\n",
        "    losses = []\n",
        "    early_stop=EarlyStopping(monitor='val_loss',mode='min',verbose=1,patience=5)\n",
        "    for i in range(len(models)):\n",
        "        history =  models[i].fit(\n",
        "                    train_generator,#egitim verileri\n",
        "                    steps_per_epoch=None,\n",
        "                    epochs=2, #use 5 for vgg16\n",
        "                    validation_data=validation_generator,\n",
        "                    validation_steps=None,\n",
        "                    verbose=1,\n",
        "                    callbacks=[ReduceLROnPlateau(monitor='val_loss', factor=0.3,patience=3, min_lr=0.000001)],\n",
        "                    shuffle=True)\n",
        "        losses.append(round(history.history['loss'][-1], 4))\n",
        "    return models, losses"
      ],
      "metadata": {
        "id": "oC0fXV-s4CIl"
      },
      "execution_count": null,
      "outputs": []
    },
    {
      "cell_type": "code",
      "source": [
        "import random\n",
        "\n",
        "no_of_generations = 10\n",
        "no_of_individuals = 3\n",
        "mutate_factor = 0.05\n",
        "individuals = []\n",
        "\n",
        "layers = []\n",
        "\n",
        "\n",
        "def mutate(new_individual):\n",
        "    for layer in layers:\n",
        "        for bias in range(len(new_individual.layers[layer].get_weights()[1])):\n",
        "            n = random.random()\n",
        "            if n < mutate_factor:\n",
        "                new_individual.layers[layer].get_weights(\n",
        "                )[1][bias] *= random.uniform(-0.5, 0.5)\n",
        "\n",
        "    for layer in layers:\n",
        "        for weight in new_individual.layers[layer].get_weights()[0]:\n",
        "            n = random.random()\n",
        "            if n < mutate_factor:\n",
        "                for j in range(len(weight)):\n",
        "                    if random.random() < mutate_factor:\n",
        "                        new_individual.layers[layer].get_weights(\n",
        "                        )[0][j] *= random.uniform(-0.5, 0.5)\n",
        "\n",
        "    return new_individual\n",
        "\n",
        "\n",
        "def crossover(individuals_param):\n",
        "    new_individuals = [individuals_param[0], individuals_param[1]]\n",
        "\n",
        "    for j in range(2, no_of_individuals):\n",
        "        if j < (no_of_individuals - 2):\n",
        "            if j == 2:\n",
        "                parentA = random.choice(individuals_param[:3])\n",
        "                parentB = random.choice(individuals_param[:3])\n",
        "            else:\n",
        "                parentA = random.choice(individuals_param[:])\n",
        "                parentB = random.choice(individuals_param[:])\n",
        "\n",
        "            for j in layers:\n",
        "                print(parentA.layers)\n",
        "                temp = parentA.layers[j].get_weights()[1]\n",
        "                parentA.layers[j].get_weights(\n",
        "                )[1] = parentB.layers[j].get_weights()[1]\n",
        "                parentB.layers[j].get_weights()[1] = temp\n",
        "\n",
        "            new_individual = random.choice([parentA, parentB])\n",
        "\n",
        "        else:\n",
        "            new_individual = random.choice(individuals_param[:])\n",
        "\n",
        "        new_individuals.append(mutate(new_individual))\n",
        "        new_individuals.append(new_individual)\n",
        "\n",
        "    return new_individuals\n",
        "\n",
        "\n",
        "def evolve(individuals_param, losses_param):\n",
        "    sorted_y_idx_list = sorted(range(len(losses_param)), key=lambda x: losses_param[x])\n",
        "    individuals_param = [individuals_param[x] for x in sorted_y_idx_list]\n",
        "\n",
        "    # winners = individuals[:6]\n",
        "\n",
        "    new_individuals = crossover(individuals_param)\n",
        "\n",
        "    return new_individuals\n",
        "\n",
        "\n",
        "\n",
        " #main ops\n",
        "for i in range(no_of_individuals):\n",
        "    individuals.append(init())\n",
        "\n",
        "for generation in range(no_of_generations):\n",
        "    individuals, losses = train(individuals)\n",
        "    print(losses)\n",
        "\n",
        "    individuals = evolve(individuals, losses)\n",
        "\n",
        "individuals[0].save(\"GA.h5\")"
      ],
      "metadata": {
        "colab": {
          "base_uri": "https://localhost:8080/"
        },
        "id": "RepaH4nQ5G8E",
        "outputId": "7ebdedd6-d1d5-499f-89d1-fac939c1bbca"
      },
      "execution_count": null,
      "outputs": [
        {
          "output_type": "stream",
          "name": "stdout",
          "text": [
            "Epoch 1/2\n",
            "18/18 [==============================] - 87s 5s/step - loss: 1.8058 - accuracy: 0.6285 - val_loss: 0.6111 - val_accuracy: 0.7790 - lr: 0.0010\n",
            "Epoch 2/2\n",
            "18/18 [==============================] - 83s 5s/step - loss: 0.4921 - accuracy: 0.8073 - val_loss: 0.4276 - val_accuracy: 0.8343 - lr: 0.0010\n",
            "Epoch 1/2\n",
            "18/18 [==============================] - 88s 5s/step - loss: 1.8933 - accuracy: 0.6146 - val_loss: 0.6576 - val_accuracy: 0.7403 - lr: 0.0010\n",
            "Epoch 2/2\n",
            "18/18 [==============================] - 83s 5s/step - loss: 0.7185 - accuracy: 0.7604 - val_loss: 0.7092 - val_accuracy: 0.6796 - lr: 0.0010\n",
            "Epoch 1/2\n",
            "18/18 [==============================] - 89s 5s/step - loss: 2.8288 - accuracy: 0.5608 - val_loss: 0.8693 - val_accuracy: 0.6519 - lr: 0.0010\n",
            "Epoch 2/2\n",
            "18/18 [==============================] - 84s 5s/step - loss: 0.6008 - accuracy: 0.7413 - val_loss: 0.3885 - val_accuracy: 0.8287 - lr: 0.0010\n",
            "[0.4921, 0.7185, 0.6008]\n",
            "Epoch 1/2\n",
            "18/18 [==============================] - 87s 5s/step - loss: 0.4625 - accuracy: 0.8038 - val_loss: 0.4598 - val_accuracy: 0.8011 - lr: 0.0010\n",
            "Epoch 2/2\n",
            "18/18 [==============================] - 84s 5s/step - loss: 0.3377 - accuracy: 0.8438 - val_loss: 0.4008 - val_accuracy: 0.8232 - lr: 0.0010\n",
            "Epoch 1/2\n",
            "18/18 [==============================] - 87s 5s/step - loss: 0.4034 - accuracy: 0.8368 - val_loss: 0.3854 - val_accuracy: 0.8398 - lr: 0.0010\n",
            "Epoch 2/2\n",
            "18/18 [==============================] - 84s 5s/step - loss: 0.3626 - accuracy: 0.8490 - val_loss: 0.4257 - val_accuracy: 0.8066 - lr: 0.0010\n",
            "Epoch 1/2\n",
            "18/18 [==============================] - 87s 5s/step - loss: 0.3250 - accuracy: 0.8854 - val_loss: 0.4013 - val_accuracy: 0.8122 - lr: 0.0010\n",
            "Epoch 2/2\n",
            "18/18 [==============================] - 83s 5s/step - loss: 0.3232 - accuracy: 0.8594 - val_loss: 0.3864 - val_accuracy: 0.8508 - lr: 0.0010\n",
            "Epoch 1/2\n",
            "18/18 [==============================] - 87s 5s/step - loss: 0.2710 - accuracy: 0.8872 - val_loss: 0.3219 - val_accuracy: 0.8508 - lr: 0.0010\n",
            "Epoch 2/2\n",
            "18/18 [==============================] - 84s 5s/step - loss: 0.2558 - accuracy: 0.9028 - val_loss: 0.3618 - val_accuracy: 0.8508 - lr: 0.0010\n",
            "[0.3377, 0.3626, 0.3232, 0.2558]\n",
            "Epoch 1/2\n",
            "18/18 [==============================] - 87s 5s/step - loss: 0.2520 - accuracy: 0.9045 - val_loss: 0.3912 - val_accuracy: 0.8453 - lr: 0.0010\n",
            "Epoch 2/2\n",
            "18/18 [==============================] - 84s 5s/step - loss: 0.2299 - accuracy: 0.9097 - val_loss: 0.3923 - val_accuracy: 0.8066 - lr: 0.0010\n",
            "Epoch 1/2\n",
            "18/18 [==============================] - 87s 5s/step - loss: 0.2259 - accuracy: 0.9219 - val_loss: 0.4446 - val_accuracy: 0.8398 - lr: 0.0010\n",
            "Epoch 2/2\n",
            "18/18 [==============================] - 84s 5s/step - loss: 0.1774 - accuracy: 0.9410 - val_loss: 0.2987 - val_accuracy: 0.8729 - lr: 0.0010\n",
            "Epoch 1/2\n",
            "18/18 [==============================] - 87s 5s/step - loss: 0.1760 - accuracy: 0.9410 - val_loss: 0.3260 - val_accuracy: 0.8619 - lr: 0.0010\n",
            "Epoch 2/2\n",
            "18/18 [==============================] - 84s 5s/step - loss: 0.1692 - accuracy: 0.9479 - val_loss: 0.4367 - val_accuracy: 0.8343 - lr: 0.0010\n",
            "Epoch 1/2\n",
            "18/18 [==============================] - 87s 5s/step - loss: 0.1620 - accuracy: 0.9444 - val_loss: 0.3665 - val_accuracy: 0.8564 - lr: 0.0010\n",
            "Epoch 2/2\n",
            "18/18 [==============================] - 84s 5s/step - loss: 0.1526 - accuracy: 0.9514 - val_loss: 0.4327 - val_accuracy: 0.8343 - lr: 0.0010\n",
            "[0.2299, 0.1774, 0.1692, 0.1526]\n",
            "Epoch 1/2\n",
            "18/18 [==============================] - 87s 5s/step - loss: 0.1244 - accuracy: 0.9635 - val_loss: 0.3353 - val_accuracy: 0.8785 - lr: 0.0010\n",
            "Epoch 2/2\n",
            "18/18 [==============================] - 84s 5s/step - loss: 0.1433 - accuracy: 0.9566 - val_loss: 0.3522 - val_accuracy: 0.8619 - lr: 0.0010\n",
            "Epoch 1/2\n",
            "18/18 [==============================] - 87s 5s/step - loss: 0.1219 - accuracy: 0.9653 - val_loss: 0.3022 - val_accuracy: 0.8895 - lr: 0.0010\n",
            "Epoch 2/2\n",
            "18/18 [==============================] - 83s 5s/step - loss: 0.1269 - accuracy: 0.9688 - val_loss: 0.3287 - val_accuracy: 0.8840 - lr: 0.0010\n",
            "Epoch 1/2\n",
            "18/18 [==============================] - 87s 5s/step - loss: 0.1222 - accuracy: 0.9601 - val_loss: 0.3461 - val_accuracy: 0.8508 - lr: 0.0010\n",
            "Epoch 2/2\n",
            "18/18 [==============================] - 84s 5s/step - loss: 0.1061 - accuracy: 0.9670 - val_loss: 0.3235 - val_accuracy: 0.8950 - lr: 0.0010\n",
            "Epoch 1/2\n",
            "18/18 [==============================] - 87s 5s/step - loss: 0.1072 - accuracy: 0.9688 - val_loss: 0.4277 - val_accuracy: 0.8564 - lr: 0.0010\n",
            "Epoch 2/2\n",
            "18/18 [==============================] - 84s 5s/step - loss: 0.1025 - accuracy: 0.9705 - val_loss: 0.4045 - val_accuracy: 0.8674 - lr: 0.0010\n",
            "[0.1433, 0.1269, 0.1061, 0.1025]\n",
            "Epoch 1/2\n",
            "18/18 [==============================] - 87s 5s/step - loss: 0.0867 - accuracy: 0.9792 - val_loss: 0.3311 - val_accuracy: 0.8840 - lr: 0.0010\n",
            "Epoch 2/2\n",
            "18/18 [==============================] - 84s 5s/step - loss: 0.0847 - accuracy: 0.9740 - val_loss: 0.3861 - val_accuracy: 0.8619 - lr: 0.0010\n",
            "Epoch 1/2\n",
            "18/18 [==============================] - 87s 5s/step - loss: 0.1076 - accuracy: 0.9688 - val_loss: 0.3744 - val_accuracy: 0.8840 - lr: 0.0010\n",
            "Epoch 2/2\n",
            "18/18 [==============================] - 84s 5s/step - loss: 0.1067 - accuracy: 0.9583 - val_loss: 0.5937 - val_accuracy: 0.8011 - lr: 0.0010\n",
            "Epoch 1/2\n",
            "18/18 [==============================] - 87s 5s/step - loss: 0.1276 - accuracy: 0.9479 - val_loss: 0.3744 - val_accuracy: 0.8674 - lr: 0.0010\n",
            "Epoch 2/2\n",
            "18/18 [==============================] - 84s 5s/step - loss: 0.0775 - accuracy: 0.9705 - val_loss: 0.4744 - val_accuracy: 0.8398 - lr: 0.0010\n",
            "Epoch 1/2\n",
            "18/18 [==============================] - 87s 5s/step - loss: 0.1175 - accuracy: 0.9688 - val_loss: 0.4175 - val_accuracy: 0.8785 - lr: 0.0010\n",
            "Epoch 2/2\n",
            "18/18 [==============================] - 84s 5s/step - loss: 0.0768 - accuracy: 0.9740 - val_loss: 0.4458 - val_accuracy: 0.8232 - lr: 0.0010\n",
            "[0.0847, 0.1067, 0.0775, 0.0768]\n",
            "Epoch 1/2\n",
            "18/18 [==============================] - 87s 5s/step - loss: 0.0671 - accuracy: 0.9774 - val_loss: 0.3828 - val_accuracy: 0.8674 - lr: 0.0010\n",
            "Epoch 2/2\n",
            "18/18 [==============================] - 84s 5s/step - loss: 0.0784 - accuracy: 0.9757 - val_loss: 0.4047 - val_accuracy: 0.8398 - lr: 0.0010\n",
            "Epoch 1/2\n",
            "18/18 [==============================] - 87s 5s/step - loss: 0.0582 - accuracy: 0.9844 - val_loss: 0.4207 - val_accuracy: 0.8453 - lr: 0.0010\n",
            "Epoch 2/2\n",
            "18/18 [==============================] - 84s 5s/step - loss: 0.0680 - accuracy: 0.9740 - val_loss: 0.4584 - val_accuracy: 0.8674 - lr: 0.0010\n",
            "Epoch 1/2\n",
            "18/18 [==============================] - 87s 5s/step - loss: 0.0890 - accuracy: 0.9740 - val_loss: 0.5009 - val_accuracy: 0.8232 - lr: 0.0010\n",
            "Epoch 2/2\n",
            "18/18 [==============================] - 84s 5s/step - loss: 0.1019 - accuracy: 0.9549 - val_loss: 0.3868 - val_accuracy: 0.8729 - lr: 0.0010\n",
            "Epoch 1/2\n",
            "18/18 [==============================] - 87s 5s/step - loss: 0.1575 - accuracy: 0.9375 - val_loss: 0.6048 - val_accuracy: 0.8343 - lr: 0.0010\n",
            "Epoch 2/2\n",
            "18/18 [==============================] - 84s 5s/step - loss: 0.0707 - accuracy: 0.9792 - val_loss: 0.5045 - val_accuracy: 0.8840 - lr: 0.0010\n",
            "[0.0784, 0.068, 0.1019, 0.0707]\n",
            "Epoch 1/2\n",
            "18/18 [==============================] - 87s 5s/step - loss: 0.0738 - accuracy: 0.9792 - val_loss: 0.3826 - val_accuracy: 0.9006 - lr: 0.0010\n",
            "Epoch 2/2\n",
            "18/18 [==============================] - 84s 5s/step - loss: 0.0571 - accuracy: 0.9792 - val_loss: 0.4440 - val_accuracy: 0.8453 - lr: 0.0010\n",
            "Epoch 1/2\n",
            "18/18 [==============================] - 87s 5s/step - loss: 0.0638 - accuracy: 0.9757 - val_loss: 0.5050 - val_accuracy: 0.8729 - lr: 0.0010\n",
            "Epoch 2/2\n",
            "18/18 [==============================] - 84s 5s/step - loss: 0.0612 - accuracy: 0.9757 - val_loss: 0.4770 - val_accuracy: 0.8398 - lr: 0.0010\n",
            "Epoch 1/2\n",
            "18/18 [==============================] - 87s 5s/step - loss: 0.0566 - accuracy: 0.9826 - val_loss: 0.3685 - val_accuracy: 0.8729 - lr: 0.0010\n",
            "Epoch 2/2\n",
            "18/18 [==============================] - 84s 5s/step - loss: 0.0666 - accuracy: 0.9809 - val_loss: 0.4220 - val_accuracy: 0.8508 - lr: 0.0010\n",
            "Epoch 1/2\n",
            "18/18 [==============================] - 88s 5s/step - loss: 0.0781 - accuracy: 0.9774 - val_loss: 0.4570 - val_accuracy: 0.8564 - lr: 0.0010\n",
            "Epoch 2/2\n",
            "18/18 [==============================] - 84s 5s/step - loss: 0.0498 - accuracy: 0.9896 - val_loss: 0.4787 - val_accuracy: 0.8785 - lr: 0.0010\n",
            "[0.0571, 0.0612, 0.0666, 0.0498]\n",
            "Epoch 1/2\n",
            "18/18 [==============================] - 87s 5s/step - loss: 0.0582 - accuracy: 0.9809 - val_loss: 0.4956 - val_accuracy: 0.8729 - lr: 0.0010\n",
            "Epoch 2/2\n",
            "18/18 [==============================] - 84s 5s/step - loss: 0.0624 - accuracy: 0.9757 - val_loss: 0.5243 - val_accuracy: 0.8398 - lr: 0.0010\n",
            "Epoch 1/2\n",
            "18/18 [==============================] - 87s 5s/step - loss: 0.0562 - accuracy: 0.9826 - val_loss: 0.4170 - val_accuracy: 0.8674 - lr: 0.0010\n",
            "Epoch 2/2\n",
            "18/18 [==============================] - 84s 5s/step - loss: 0.0618 - accuracy: 0.9792 - val_loss: 0.4690 - val_accuracy: 0.8840 - lr: 0.0010\n",
            "Epoch 1/2\n",
            "18/18 [==============================] - 87s 5s/step - loss: 0.0527 - accuracy: 0.9792 - val_loss: 0.4996 - val_accuracy: 0.8564 - lr: 0.0010\n",
            "Epoch 2/2\n",
            "18/18 [==============================] - 84s 5s/step - loss: 0.0528 - accuracy: 0.9861 - val_loss: 0.4036 - val_accuracy: 0.9061 - lr: 0.0010\n",
            "Epoch 1/2\n",
            "18/18 [==============================] - 87s 5s/step - loss: 0.0671 - accuracy: 0.9740 - val_loss: 0.5253 - val_accuracy: 0.8785 - lr: 0.0010\n",
            "Epoch 2/2\n",
            "18/18 [==============================] - 84s 5s/step - loss: 0.0503 - accuracy: 0.9896 - val_loss: 0.4697 - val_accuracy: 0.8508 - lr: 0.0010\n",
            "[0.0624, 0.0618, 0.0528, 0.0503]\n",
            "Epoch 1/2\n",
            "18/18 [==============================] - 87s 5s/step - loss: 0.0385 - accuracy: 0.9931 - val_loss: 0.4297 - val_accuracy: 0.8785 - lr: 0.0010\n",
            "Epoch 2/2\n",
            "18/18 [==============================] - 84s 5s/step - loss: 0.0406 - accuracy: 0.9896 - val_loss: 0.4491 - val_accuracy: 0.8729 - lr: 0.0010\n",
            "Epoch 1/2\n",
            "18/18 [==============================] - 87s 5s/step - loss: 0.0425 - accuracy: 0.9948 - val_loss: 0.4756 - val_accuracy: 0.8674 - lr: 0.0010\n",
            "Epoch 2/2\n",
            "18/18 [==============================] - 84s 5s/step - loss: 0.0336 - accuracy: 0.9931 - val_loss: 0.5512 - val_accuracy: 0.8729 - lr: 0.0010\n",
            "Epoch 1/2\n",
            "18/18 [==============================] - 87s 5s/step - loss: 0.0366 - accuracy: 0.9913 - val_loss: 0.6226 - val_accuracy: 0.8508 - lr: 0.0010\n",
            "Epoch 2/2\n",
            "18/18 [==============================] - 83s 5s/step - loss: 0.0540 - accuracy: 0.9878 - val_loss: 0.5307 - val_accuracy: 0.8508 - lr: 0.0010\n",
            "Epoch 1/2\n",
            "18/18 [==============================] - 87s 5s/step - loss: 0.0520 - accuracy: 0.9826 - val_loss: 0.4383 - val_accuracy: 0.8840 - lr: 0.0010\n",
            "Epoch 2/2\n",
            "18/18 [==============================] - 84s 5s/step - loss: 0.0548 - accuracy: 0.9861 - val_loss: 0.7711 - val_accuracy: 0.8453 - lr: 0.0010\n",
            "[0.0406, 0.0336, 0.054, 0.0548]\n",
            "Epoch 1/2\n",
            "18/18 [==============================] - 88s 5s/step - loss: 0.0934 - accuracy: 0.9688 - val_loss: 0.5494 - val_accuracy: 0.8453 - lr: 0.0010\n",
            "Epoch 2/2\n",
            "18/18 [==============================] - 84s 5s/step - loss: 0.1289 - accuracy: 0.9514 - val_loss: 0.4226 - val_accuracy: 0.8674 - lr: 0.0010\n",
            "Epoch 1/2\n",
            "18/18 [==============================] - 87s 5s/step - loss: 0.0782 - accuracy: 0.9722 - val_loss: 0.6620 - val_accuracy: 0.8343 - lr: 0.0010\n",
            "Epoch 2/2\n",
            "18/18 [==============================] - 84s 5s/step - loss: 0.1316 - accuracy: 0.9479 - val_loss: 0.5073 - val_accuracy: 0.8508 - lr: 0.0010\n",
            "Epoch 1/2\n",
            "18/18 [==============================] - 87s 5s/step - loss: 0.0571 - accuracy: 0.9809 - val_loss: 0.5398 - val_accuracy: 0.8564 - lr: 0.0010\n",
            "Epoch 2/2\n",
            "18/18 [==============================] - 83s 5s/step - loss: 0.0403 - accuracy: 0.9878 - val_loss: 0.6240 - val_accuracy: 0.8177 - lr: 0.0010\n",
            "Epoch 1/2\n",
            "18/18 [==============================] - 87s 5s/step - loss: 0.0525 - accuracy: 0.9774 - val_loss: 0.4245 - val_accuracy: 0.9006 - lr: 0.0010\n",
            "Epoch 2/2\n",
            "18/18 [==============================] - 83s 5s/step - loss: 0.0462 - accuracy: 0.9861 - val_loss: 0.4218 - val_accuracy: 0.8840 - lr: 0.0010\n",
            "[0.1289, 0.1316, 0.0403, 0.0462]\n"
          ]
        }
      ]
    }
  ],
  "metadata": {
    "accelerator": "GPU",
    "colab": {
      "provenance": [],
      "machine_shape": "hm"
    },
    "gpuClass": "premium",
    "kernelspec": {
      "display_name": "Python 3",
      "name": "python3"
    },
    "language_info": {
      "name": "python"
    }
  },
  "nbformat": 4,
  "nbformat_minor": 0
}