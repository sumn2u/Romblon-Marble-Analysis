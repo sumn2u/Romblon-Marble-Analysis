{
  "cells": [
    {
      "cell_type": "code",
      "execution_count": 1,
      "metadata": {
        "colab": {
          "base_uri": "https://localhost:8080/"
        },
        "id": "4gr-Rl4OjaeW",
        "outputId": "85d163bc-c363-4818-bd7c-0777c5c48968"
      },
      "outputs": [
        {
          "name": "stdout",
          "output_type": "stream",
          "text": [
            "Mounted at /content/drive\n"
          ]
        }
      ],
      "source": [
        "from google.colab import drive\n",
        "drive.mount('/content/drive')"
      ]
    },
    {
      "cell_type": "code",
      "execution_count": null,
      "metadata": {
        "colab": {
          "base_uri": "https://localhost:8080/"
        },
        "id": "M5_SeJMKkwql",
        "outputId": "cd92e889-ab18-4413-ec8d-57242059cd03"
      },
      "outputs": [],
      "source": [
        "!ls \"/content/drive/My Drive\""
      ]
    },
    {
      "cell_type": "code",
      "execution_count": 3,
      "metadata": {
        "id": "HPc68OoGkz3V"
      },
      "outputs": [],
      "source": [
        "!cp -r \"/content/drive/My Drive/marble\" \"marble\""
      ]
    },
    {
      "cell_type": "code",
      "execution_count": 4,
      "metadata": {
        "colab": {
          "base_uri": "https://localhost:8080/"
        },
        "id": "cR0gKH5GldtF",
        "outputId": "0b68c853-cf2a-455c-f052-f690e1d3b09d"
      },
      "outputs": [
        {
          "name": "stdout",
          "output_type": "stream",
          "text": [
            "'CNN Models.ipynb'  'marble datasets'\n"
          ]
        }
      ],
      "source": [
        "!ls \"/content/marble\""
      ]
    },
    {
      "cell_type": "code",
      "execution_count": 5,
      "metadata": {
        "colab": {
          "base_uri": "https://localhost:8080/"
        },
        "id": "3iS1_-Pz9F8Y",
        "outputId": "2ce6f678-dd9c-4929-ee05-e3b52ea7b5e8"
      },
      "outputs": [
        {
          "name": "stdout",
          "output_type": "stream",
          "text": [
            "Total number of images in CLASS A 164\n",
            "Total number of images in CLASS B 245\n",
            "Total number of images in CLASS C 494\n"
          ]
        }
      ],
      "source": [
        "# create final dataset.the training  dataset consits of (0.8 * 0.8 * T), the valdation dataset (0.2 * 0.8 * T) and (0.2 * T) testing images.\n",
        "# x_train: Numpy arrays of the images of the training dataset\n",
        "# y_train: Labels of the training dataset\n",
        "# x_test: Numpy arrays of the images of the testing dataset\n",
        "# y_test: Labels of the testing dataset\n",
        "# x_val: Numpy arrays of the images of the validation dataset\n",
        "# y_val: Labels of the validation dataset\n",
        "\n",
        "from tensorflow.keras.layers import  Convolution2D, MaxPooling2D, Input, Lambda, Dense, Flatten, Dropout, BatchNormalization\n",
        "from tensorflow.keras.models import Model\n",
        "from tensorflow.keras.applications.vgg19 import VGG19\n",
        "from tensorflow.keras.applications.vgg16 import VGG16\n",
        "from tensorflow.keras.applications.inception_v3 import InceptionV3\n",
        "from tensorflow.keras.applications.resnet50 import ResNet50\n",
        "from tensorflow.keras.applications.vgg19 import preprocess_input\n",
        "from tensorflow.keras.preprocessing import image\n",
        "from tensorflow.keras.preprocessing.image import ImageDataGenerator\n",
        "from tensorflow.keras.models import Sequential\n",
        "from keras.callbacks import ReduceLROnPlateau\n",
        "from sklearn.metrics import classification_report\n",
        "\n",
        "import tensorflow as tf\n",
        "import numpy as np\n",
        "import pandas as pd\n",
        "import os\n",
        "import cv2\n",
        "import matplotlib.pyplot as plt\n",
        "import glob\n",
        "\n",
        "#count the number of images in respective directory\n",
        "import fnmatch\n",
        "print( \"Total number of images in CLASS A\", len(fnmatch.filter(os.listdir(\"/content/marble/marble datasets/CLASS A\"), '*.jpg')));\n",
        "print( \"Total number of images in CLASS B\", len(fnmatch.filter(os.listdir(\"/content/marble/marble datasets/CLASS B\"), '*.jpg')));\n",
        "print( \"Total number of images in CLASS C\", len(fnmatch.filter(os.listdir(\"/content/marble/marble datasets/CLASS C\"), '*.jpg')));"
      ]
    },
    {
      "cell_type": "code",
      "execution_count": 6,
      "metadata": {
        "colab": {
          "base_uri": "https://localhost:8080/"
        },
        "id": "oTiOf2igAk1P",
        "outputId": "e13a3020-5dd5-4152-e987-a109e07583ec"
      },
      "outputs": [
        {
          "name": "stdout",
          "output_type": "stream",
          "text": [
            "Looking in indexes: https://pypi.org/simple, https://us-python.pkg.dev/colab-wheels/public/simple/\n",
            "Collecting python_splitter\n",
            "  Downloading python_splitter-0.0.3-py3-none-any.whl (5.2 kB)\n",
            "Requirement already satisfied: numpy in /usr/local/lib/python3.8/dist-packages (from python_splitter) (1.21.6)\n",
            "Installing collected packages: python-splitter\n",
            "Successfully installed python-splitter-0.0.3\n",
            "✅Checking SOURCE directory...\n",
            "0.64 0.2 0.16\n",
            "✅Checking percentage validation...\n",
            "✅Making required directories...\n",
            "✅Shuffling data...\n",
            "✅Getting ready for copying files...\n",
            "\n",
            "-------------Successfully splitted !!!--------------- \n"
          ]
        }
      ],
      "source": [
        "# split dataset into train_test_folder\n",
        "! pip install python_splitter \n",
        "import python_splitter\n",
        "python_splitter.split_from_folder(\"/content/marble/marble datasets\", train=0.64, test=0.16, val=0.2)"
      ]
    },
    {
      "cell_type": "code",
      "execution_count": 7,
      "metadata": {
        "id": "7hcFRc3vfAbI"
      },
      "outputs": [],
      "source": [
        "def get_files(directory):\n",
        "  if not os.path.exists(directory):\n",
        "    return 0\n",
        "  count=0\n",
        "  # crawls inside folders\n",
        "  for current_path,dirs,files in os.walk(directory):\n",
        "    for dr in dirs:\n",
        "      count+= len(glob.glob(os.path.join(current_path,dr+\"/*\")))\n",
        "  return count\n",
        "train_dir =\"Train_Test_Folder/train\"\n",
        "test_dir=\"Train_Test_Folder/test\""
      ]
    },
    {
      "cell_type": "code",
      "execution_count": 8,
      "metadata": {
        "colab": {
          "base_uri": "https://localhost:8080/"
        },
        "id": "y821l6ryfMDe",
        "outputId": "b70c1810-3d56-4a81-9e67-b86e02e858d9"
      },
      "outputs": [
        {
          "name": "stdout",
          "output_type": "stream",
          "text": [
            "3 Classes\n",
            "576 Train images\n",
            "181 Test images\n"
          ]
        }
      ],
      "source": [
        "#train file image count\n",
        "train_samples =get_files(train_dir)\n",
        "#to get tags\n",
        "num_classes=len(glob.glob(train_dir+\"/*\")) \n",
        "#test file image count\n",
        "test_samples=get_files(test_dir)\n",
        "print(num_classes,\"Classes\")\n",
        "print(train_samples,\"Train images\")\n",
        "print(test_samples,\"Test images\")"
      ]
    },
    {
      "cell_type": "code",
      "execution_count": 9,
      "metadata": {
        "id": "KCXlr76nfSpR"
      },
      "outputs": [],
      "source": [
        "train_datagen=ImageDataGenerator(\n",
        "    rescale=1./255,\n",
        "    shear_range=0.2,\n",
        "    zoom_range=0.2,\n",
        "    horizontal_flip=True\n",
        "    )\n",
        "test_datagen=ImageDataGenerator(rescale=1./255)\n"
      ]
    },
    {
      "cell_type": "code",
      "execution_count": 10,
      "metadata": {
        "colab": {
          "base_uri": "https://localhost:8080/"
        },
        "id": "wXFANXL7fX7i",
        "outputId": "2de925f9-382f-4017-b750-6e4990915d53"
      },
      "outputs": [
        {
          "name": "stdout",
          "output_type": "stream",
          "text": [
            "Found 576 images belonging to 3 classes.\n",
            "Found 181 images belonging to 3 classes.\n"
          ]
        }
      ],
      "source": [
        "input_shape=(224,224,3)\n",
        "train_generator =train_datagen.flow_from_directory(train_dir,target_size=(224,224),batch_size=32)\n",
        "test_generator=test_datagen.flow_from_directory(test_dir,shuffle=True,target_size=(224,224),batch_size=32)"
      ]
    },
    {
      "cell_type": "code",
      "execution_count": 11,
      "metadata": {
        "id": "f2J509p4fieb"
      },
      "outputs": [],
      "source": [
        "def create_Base_model_from_InceptionV3():\n",
        "    IMAGE_SIZE = [224, 224]\n",
        "    model_inceptionV3 = InceptionV3( \n",
        "        weights = \"imagenet\",# control point from which model is started\n",
        "        include_top=False, # to include/exclude the first 3 layers\n",
        "        input_shape = IMAGE_SIZE + [3],)\n",
        "    # We don't need to train existing weights\n",
        "    for layer in model_inceptionV3.layers:\n",
        "        layer.trainable = False\n",
        "    return model_inceptionV3"
      ]
    },
    {
      "cell_type": "code",
      "execution_count": null,
      "metadata": {
        "colab": {
          "base_uri": "https://localhost:8080/"
        },
        "id": "R41uU2PEnnHp",
        "outputId": "2d8b53e3-cd44-455c-caed-5f5f963d7f71"
      },
      "outputs": [
        {
          "name": "stdout",
          "output_type": "stream",
          "text": [
            "Downloading data from https://storage.googleapis.com/tensorflow/keras-applications/inception_v3/inception_v3_weights_tf_dim_ordering_tf_kernels_notop.h5\n",
            "87910968/87910968 [==============================] - 1s 0us/step\n"
          ]
        }
      ],
      "source": [
        "inception = create_Base_model_from_InceptionV3();\n",
        "x = Flatten()(inception.output)\n",
        "prediction = Dense(num_classes, activation='softmax')(x)\n",
        "model = Model(inputs=inception.input, outputs=prediction)"
      ]
    },
    {
      "cell_type": "code",
      "execution_count": 12,
      "metadata": {
        "id": "QiEkE_n5rh0p"
      },
      "outputs": [],
      "source": [
        "def create_Base_model_from_VGG16():  \n",
        "    model = VGG16(\n",
        "        weights = \"imagenet\",\n",
        "        include_top=False, \n",
        "        input_shape = (224,224, 3) # goruntu boyutu\n",
        "        ) \n",
        "    for layer in model.layers:\n",
        "      layer.trainable = False\n",
        "    return model "
      ]
    },
    {
      "cell_type": "code",
      "execution_count": 13,
      "metadata": {
        "id": "VRgEHCiQs2uH"
      },
      "outputs": [],
      "source": [
        "def add_custom_layers_VGG16():\n",
        "    model = create_Base_model_from_VGG16()\n",
        "    x = model.output\n",
        "    x = tf.keras.layers.Flatten()(x)\n",
        "    x = tf.keras.layers.Dense(256, activation=\"relu\")(x)\n",
        "    predictions = tf.keras.layers.Dense(num_classes, activation=\"softmax\")(x)   \n",
        "    # creating the final model \n",
        "    final_model = tf.keras.models.Model(\n",
        "        inputs = model.input, \n",
        "        outputs = predictions)\n",
        "     \n",
        "  \n",
        "    return final_model\n",
        "\n",
        "# add_custom_layers_VGG16().summary()"
      ]
    },
    {
      "cell_type": "code",
      "execution_count": null,
      "metadata": {
        "id": "szO5Ew9CxCFM"
      },
      "outputs": [],
      "source": [
        "def create_Base_model_from_VGG19():  \n",
        "    model_vgg19 = VGG19(\n",
        "        weights = \"imagenet\",# control point from which model is started\n",
        "        include_top=False, # to include/exclude the first 3 layers\n",
        "        input_shape = (224,224, 3)) # image size\n",
        "    # don't train existing weights \n",
        "    for layer in model_vgg19.layers:\n",
        "      layer.trainable = False\n",
        "    return model_vgg19 \n",
        "# create_Base_model_from_VGG19().summary()"
      ]
    },
    {
      "cell_type": "code",
      "execution_count": null,
      "metadata": {
        "id": "eMlpaKuGxLC1"
      },
      "outputs": [],
      "source": [
        "def add_custom_layers_vgg19():\n",
        "    #Adding custom Layers \n",
        "    model_vgg19 = create_Base_model_from_VGG19()\n",
        "    x = model_vgg19.output\n",
        "    x = tf.keras.layers.Flatten()(x)\n",
        "    x = tf.keras.layers.Dense(256, activation=\"relu\")(x)\n",
        "    predictions = tf.keras.layers.Dense(num_classes, activation=\"softmax\")(x)   \n",
        "    # creating the final model \n",
        "    final_model = tf.keras.models.Model(\n",
        "        inputs = model_vgg19.input, \n",
        "        outputs = predictions)\n",
        "     \n",
        "    final_model.compile(loss='categorical_crossentropy', optimizer='adam', metrics=['accuracy'])  \n",
        "    return final_model\n",
        "\n",
        "# add_custom_layers_vgg19().summary()"
      ]
    },
    {
      "cell_type": "code",
      "execution_count": null,
      "metadata": {
        "colab": {
          "base_uri": "https://localhost:8080/"
        },
        "id": "lgYN0PVqzm8V",
        "outputId": "3ae803d2-3d7a-415f-de89-b2e71f486282"
      },
      "outputs": [
        {
          "name": "stdout",
          "output_type": "stream",
          "text": [
            "Downloading data from https://storage.googleapis.com/tensorflow/keras-applications/resnet/resnet50_weights_tf_dim_ordering_tf_kernels_notop.h5\n",
            "94765736/94765736 [==============================] - 1s 0us/step\n"
          ]
        }
      ],
      "source": [
        "def create_Base_model_from_ResNet50():\n",
        "    model_resNet50 = ResNet50( \n",
        "        weights = \"imagenet\",# control point from which model is started\n",
        "        include_top=False,\n",
        "        pooling='avg',\n",
        "        input_shape = (224,224, 3))\n",
        "    # We don't need to train existing weights\n",
        "    model_resNet50.trainable = False\n",
        "    return model_resNet50\n",
        "\n",
        "\n",
        "pretrained_model= create_Base_model_from_ResNet50()\n",
        "inputs = pretrained_model.input\n",
        "\n",
        "x = Dense(128, activation='relu')(pretrained_model.output)\n",
        "x = Dense(128, activation='relu')(x)\n",
        "\n",
        "outputs = Dense(num_classes, activation='softmax')(x)\n",
        "\n",
        "model = Model(inputs=inputs, outputs=outputs)"
      ]
    },
    {
      "cell_type": "code",
      "execution_count": null,
      "metadata": {
        "id": "9eE9jwAU5qS4"
      },
      "outputs": [],
      "source": [
        "\n",
        "def alexnet():\n",
        "    #Adding custom Layers \n",
        "    # Initializing the CNN\n",
        "    model = Sequential()\n",
        "    # Convolution Step 1\n",
        "    model.add(Convolution2D(96, 11, strides = (4, 4), padding = 'valid', input_shape=(224, 224, 3), activation = 'relu'))\n",
        "    # Max Pooling Step 1\n",
        "    model.add(MaxPooling2D(pool_size = (2, 2), strides = (2, 2), padding = 'valid'))\n",
        "    model.add(BatchNormalization())\n",
        "    # Convolution Step 2\n",
        "    model.add(Convolution2D(256, 11, strides = (1, 1), padding='valid', activation = 'relu'))\n",
        "    # Max Pooling Step 2\n",
        "    model.add(MaxPooling2D(pool_size = (2, 2), strides = (2, 2), padding='valid'))\n",
        "    model.add(BatchNormalization())\n",
        "    # Convolution Step 3\n",
        "    model.add(Convolution2D(384, 3, strides = (1, 1), padding='valid', activation = 'relu'))\n",
        "    model.add(BatchNormalization())\n",
        "    # Convolution Step 4\n",
        "    model.add(Convolution2D(384, 3, strides = (1, 1), padding='valid', activation = 'relu'))\n",
        "    model.add(BatchNormalization())\n",
        "    # Convolution Step 5\n",
        "    model.add(Convolution2D(256, 3, strides=(1,1), padding='valid', activation = 'relu'))\n",
        "    # Max Pooling Step 3\n",
        "    model.add(MaxPooling2D(pool_size = (2, 2), strides = (2, 2), padding = 'valid'))\n",
        "    model.add(BatchNormalization())\n",
        "    # Flattening Step\n",
        "    model.add(Flatten())\n",
        "    # Full Connection Step\n",
        "    model.add(Dense(units = 4096, activation = 'relu'))\n",
        "    model.add(Dropout(0.4))\n",
        "    model.add(BatchNormalization())\n",
        "    model.add(Dense(units = 4096, activation = 'relu'))\n",
        "    model.add(Dropout(0.4))\n",
        "    model.add(BatchNormalization())\n",
        "    model.add(Dense(units = 1000, activation = 'relu'))\n",
        "    model.add(Dropout(0.2))\n",
        "    model.add(BatchNormalization())\n",
        "    model.add(Dense(units = num_classes, activation = 'softmax'))\n",
        "    \n",
        "    return model\n",
        "\n",
        "# add_custom_layers_vgg19().summary()"
      ]
    },
    {
      "cell_type": "code",
      "execution_count": 14,
      "metadata": {
        "colab": {
          "base_uri": "https://localhost:8080/"
        },
        "id": "3M5V2qjhsMhO",
        "outputId": "3f5f938a-c80b-4599-e436-065d40b5f16c"
      },
      "outputs": [
        {
          "name": "stdout",
          "output_type": "stream",
          "text": [
            "Downloading data from https://storage.googleapis.com/tensorflow/keras-applications/vgg16/vgg16_weights_tf_dim_ordering_tf_kernels_notop.h5\n",
            "58889256/58889256 [==============================] - 0s 0us/step\n"
          ]
        }
      ],
      "source": [
        "# model = add_custom_layers_vgg19()\n",
        "# model = add_custom_layers()\n",
        "# model = alexnet()\n",
        "model = add_custom_layers_VGG16()"
      ]
    },
    {
      "cell_type": "code",
      "execution_count": 15,
      "metadata": {
        "id": "bX-K1e4anv3D"
      },
      "outputs": [],
      "source": [
        "model.compile(loss='categorical_crossentropy',optimizer='adam',metrics=['accuracy'])"
      ]
    },
    {
      "cell_type": "code",
      "execution_count": 16,
      "metadata": {
        "colab": {
          "base_uri": "https://localhost:8080/"
        },
        "id": "dM8urCc_fqZP",
        "outputId": "8c60ec5c-dc4f-4932-d4e6-69a82a12f276"
      },
      "outputs": [
        {
          "name": "stdout",
          "output_type": "stream",
          "text": [
            "Found 181 images belonging to 3 classes.\n"
          ]
        }
      ],
      "source": [
        "validation_generator = train_datagen.flow_from_directory(\n",
        "                       test_dir,\n",
        "                       target_size=(224, 224),\n",
        "                       batch_size=32)"
      ]
    },
    {
      "cell_type": "code",
      "execution_count": 17,
      "metadata": {
        "colab": {
          "base_uri": "https://localhost:8080/"
        },
        "id": "ghhC9PH5gGQb",
        "outputId": "853ca2b6-2aef-4f67-c43b-c1cd477ec009"
      },
      "outputs": [
        {
          "name": "stdout",
          "output_type": "stream",
          "text": [
            "Found 576 images belonging to 3 classes.\n"
          ]
        }
      ],
      "source": [
        "train_generator =train_datagen.flow_from_directory(train_dir,target_size=(224,224),batch_size=32)"
      ]
    },
    {
      "cell_type": "code",
      "execution_count": 18,
      "metadata": {
        "colab": {
          "base_uri": "https://localhost:8080/",
          "height": 416
        },
        "id": "n9YfB94nf-kS",
        "outputId": "a370a769-1ad0-47a1-f846-71fc6e7e8f2b"
      },
      "outputs": [
        {
          "name": "stdout",
          "output_type": "stream",
          "text": [
            "Epoch 1/2\n",
            "13/18 [====================>.........] - ETA: 1:04 - loss: 2.4951 - accuracy: 0.5264"
          ]
        },
        {
          "ename": "KeyboardInterrupt",
          "evalue": "ignored",
          "output_type": "error",
          "traceback": [
            "\u001b[0;31m---------------------------------------------------------------------------\u001b[0m",
            "\u001b[0;31mKeyboardInterrupt\u001b[0m                         Traceback (most recent call last)",
            "\u001b[0;32m<ipython-input-18-d3384266e3fc>\u001b[0m in \u001b[0;36m<module>\u001b[0;34m\u001b[0m\n\u001b[0;32m----> 1\u001b[0;31m history = model.fit(\n\u001b[0m\u001b[1;32m      2\u001b[0m             \u001b[0mtrain_generator\u001b[0m\u001b[0;34m,\u001b[0m\u001b[0;31m#egitim verileri\u001b[0m\u001b[0;34m\u001b[0m\u001b[0;34m\u001b[0m\u001b[0m\n\u001b[1;32m      3\u001b[0m             \u001b[0msteps_per_epoch\u001b[0m\u001b[0;34m=\u001b[0m\u001b[0;32mNone\u001b[0m\u001b[0;34m,\u001b[0m\u001b[0;34m\u001b[0m\u001b[0;34m\u001b[0m\u001b[0m\n\u001b[1;32m      4\u001b[0m             \u001b[0mepochs\u001b[0m\u001b[0;34m=\u001b[0m\u001b[0;36m2\u001b[0m\u001b[0;34m,\u001b[0m \u001b[0;31m#use 5 for vgg16\u001b[0m\u001b[0;34m\u001b[0m\u001b[0;34m\u001b[0m\u001b[0m\n\u001b[1;32m      5\u001b[0m             \u001b[0mvalidation_data\u001b[0m\u001b[0;34m=\u001b[0m\u001b[0mvalidation_generator\u001b[0m\u001b[0;34m,\u001b[0m\u001b[0;34m\u001b[0m\u001b[0;34m\u001b[0m\u001b[0m\n",
            "\u001b[0;32m/usr/local/lib/python3.8/dist-packages/keras/utils/traceback_utils.py\u001b[0m in \u001b[0;36merror_handler\u001b[0;34m(*args, **kwargs)\u001b[0m\n\u001b[1;32m     62\u001b[0m     \u001b[0mfiltered_tb\u001b[0m \u001b[0;34m=\u001b[0m \u001b[0;32mNone\u001b[0m\u001b[0;34m\u001b[0m\u001b[0;34m\u001b[0m\u001b[0m\n\u001b[1;32m     63\u001b[0m     \u001b[0;32mtry\u001b[0m\u001b[0;34m:\u001b[0m\u001b[0;34m\u001b[0m\u001b[0;34m\u001b[0m\u001b[0m\n\u001b[0;32m---> 64\u001b[0;31m       \u001b[0;32mreturn\u001b[0m \u001b[0mfn\u001b[0m\u001b[0;34m(\u001b[0m\u001b[0;34m*\u001b[0m\u001b[0margs\u001b[0m\u001b[0;34m,\u001b[0m \u001b[0;34m**\u001b[0m\u001b[0mkwargs\u001b[0m\u001b[0;34m)\u001b[0m\u001b[0;34m\u001b[0m\u001b[0;34m\u001b[0m\u001b[0m\n\u001b[0m\u001b[1;32m     65\u001b[0m     \u001b[0;32mexcept\u001b[0m \u001b[0mException\u001b[0m \u001b[0;32mas\u001b[0m \u001b[0me\u001b[0m\u001b[0;34m:\u001b[0m  \u001b[0;31m# pylint: disable=broad-except\u001b[0m\u001b[0;34m\u001b[0m\u001b[0;34m\u001b[0m\u001b[0m\n\u001b[1;32m     66\u001b[0m       \u001b[0mfiltered_tb\u001b[0m \u001b[0;34m=\u001b[0m \u001b[0m_process_traceback_frames\u001b[0m\u001b[0;34m(\u001b[0m\u001b[0me\u001b[0m\u001b[0;34m.\u001b[0m\u001b[0m__traceback__\u001b[0m\u001b[0;34m)\u001b[0m\u001b[0;34m\u001b[0m\u001b[0;34m\u001b[0m\u001b[0m\n",
            "\u001b[0;32m/usr/local/lib/python3.8/dist-packages/keras/engine/training.py\u001b[0m in \u001b[0;36mfit\u001b[0;34m(self, x, y, batch_size, epochs, verbose, callbacks, validation_split, validation_data, shuffle, class_weight, sample_weight, initial_epoch, steps_per_epoch, validation_steps, validation_batch_size, validation_freq, max_queue_size, workers, use_multiprocessing)\u001b[0m\n\u001b[1;32m   1407\u001b[0m                 _r=1):\n\u001b[1;32m   1408\u001b[0m               \u001b[0mcallbacks\u001b[0m\u001b[0;34m.\u001b[0m\u001b[0mon_train_batch_begin\u001b[0m\u001b[0;34m(\u001b[0m\u001b[0mstep\u001b[0m\u001b[0;34m)\u001b[0m\u001b[0;34m\u001b[0m\u001b[0;34m\u001b[0m\u001b[0m\n\u001b[0;32m-> 1409\u001b[0;31m               \u001b[0mtmp_logs\u001b[0m \u001b[0;34m=\u001b[0m \u001b[0mself\u001b[0m\u001b[0;34m.\u001b[0m\u001b[0mtrain_function\u001b[0m\u001b[0;34m(\u001b[0m\u001b[0miterator\u001b[0m\u001b[0;34m)\u001b[0m\u001b[0;34m\u001b[0m\u001b[0;34m\u001b[0m\u001b[0m\n\u001b[0m\u001b[1;32m   1410\u001b[0m               \u001b[0;32mif\u001b[0m \u001b[0mdata_handler\u001b[0m\u001b[0;34m.\u001b[0m\u001b[0mshould_sync\u001b[0m\u001b[0;34m:\u001b[0m\u001b[0;34m\u001b[0m\u001b[0;34m\u001b[0m\u001b[0m\n\u001b[1;32m   1411\u001b[0m                 \u001b[0mcontext\u001b[0m\u001b[0;34m.\u001b[0m\u001b[0masync_wait\u001b[0m\u001b[0;34m(\u001b[0m\u001b[0;34m)\u001b[0m\u001b[0;34m\u001b[0m\u001b[0;34m\u001b[0m\u001b[0m\n",
            "\u001b[0;32m/usr/local/lib/python3.8/dist-packages/tensorflow/python/util/traceback_utils.py\u001b[0m in \u001b[0;36merror_handler\u001b[0;34m(*args, **kwargs)\u001b[0m\n\u001b[1;32m    148\u001b[0m     \u001b[0mfiltered_tb\u001b[0m \u001b[0;34m=\u001b[0m \u001b[0;32mNone\u001b[0m\u001b[0;34m\u001b[0m\u001b[0;34m\u001b[0m\u001b[0m\n\u001b[1;32m    149\u001b[0m     \u001b[0;32mtry\u001b[0m\u001b[0;34m:\u001b[0m\u001b[0;34m\u001b[0m\u001b[0;34m\u001b[0m\u001b[0m\n\u001b[0;32m--> 150\u001b[0;31m       \u001b[0;32mreturn\u001b[0m \u001b[0mfn\u001b[0m\u001b[0;34m(\u001b[0m\u001b[0;34m*\u001b[0m\u001b[0margs\u001b[0m\u001b[0;34m,\u001b[0m \u001b[0;34m**\u001b[0m\u001b[0mkwargs\u001b[0m\u001b[0;34m)\u001b[0m\u001b[0;34m\u001b[0m\u001b[0;34m\u001b[0m\u001b[0m\n\u001b[0m\u001b[1;32m    151\u001b[0m     \u001b[0;32mexcept\u001b[0m \u001b[0mException\u001b[0m \u001b[0;32mas\u001b[0m \u001b[0me\u001b[0m\u001b[0;34m:\u001b[0m\u001b[0;34m\u001b[0m\u001b[0;34m\u001b[0m\u001b[0m\n\u001b[1;32m    152\u001b[0m       \u001b[0mfiltered_tb\u001b[0m \u001b[0;34m=\u001b[0m \u001b[0m_process_traceback_frames\u001b[0m\u001b[0;34m(\u001b[0m\u001b[0me\u001b[0m\u001b[0;34m.\u001b[0m\u001b[0m__traceback__\u001b[0m\u001b[0;34m)\u001b[0m\u001b[0;34m\u001b[0m\u001b[0;34m\u001b[0m\u001b[0m\n",
            "\u001b[0;32m/usr/local/lib/python3.8/dist-packages/tensorflow/python/eager/def_function.py\u001b[0m in \u001b[0;36m__call__\u001b[0;34m(self, *args, **kwds)\u001b[0m\n\u001b[1;32m    913\u001b[0m \u001b[0;34m\u001b[0m\u001b[0m\n\u001b[1;32m    914\u001b[0m       \u001b[0;32mwith\u001b[0m \u001b[0mOptionalXlaContext\u001b[0m\u001b[0;34m(\u001b[0m\u001b[0mself\u001b[0m\u001b[0;34m.\u001b[0m\u001b[0m_jit_compile\u001b[0m\u001b[0;34m)\u001b[0m\u001b[0;34m:\u001b[0m\u001b[0;34m\u001b[0m\u001b[0;34m\u001b[0m\u001b[0m\n\u001b[0;32m--> 915\u001b[0;31m         \u001b[0mresult\u001b[0m \u001b[0;34m=\u001b[0m \u001b[0mself\u001b[0m\u001b[0;34m.\u001b[0m\u001b[0m_call\u001b[0m\u001b[0;34m(\u001b[0m\u001b[0;34m*\u001b[0m\u001b[0margs\u001b[0m\u001b[0;34m,\u001b[0m \u001b[0;34m**\u001b[0m\u001b[0mkwds\u001b[0m\u001b[0;34m)\u001b[0m\u001b[0;34m\u001b[0m\u001b[0;34m\u001b[0m\u001b[0m\n\u001b[0m\u001b[1;32m    916\u001b[0m \u001b[0;34m\u001b[0m\u001b[0m\n\u001b[1;32m    917\u001b[0m       \u001b[0mnew_tracing_count\u001b[0m \u001b[0;34m=\u001b[0m \u001b[0mself\u001b[0m\u001b[0;34m.\u001b[0m\u001b[0mexperimental_get_tracing_count\u001b[0m\u001b[0;34m(\u001b[0m\u001b[0;34m)\u001b[0m\u001b[0;34m\u001b[0m\u001b[0;34m\u001b[0m\u001b[0m\n",
            "\u001b[0;32m/usr/local/lib/python3.8/dist-packages/tensorflow/python/eager/def_function.py\u001b[0m in \u001b[0;36m_call\u001b[0;34m(self, *args, **kwds)\u001b[0m\n\u001b[1;32m    945\u001b[0m       \u001b[0;31m# In this case we have created variables on the first call, so we run the\u001b[0m\u001b[0;34m\u001b[0m\u001b[0;34m\u001b[0m\u001b[0;34m\u001b[0m\u001b[0m\n\u001b[1;32m    946\u001b[0m       \u001b[0;31m# defunned version which is guaranteed to never create variables.\u001b[0m\u001b[0;34m\u001b[0m\u001b[0;34m\u001b[0m\u001b[0;34m\u001b[0m\u001b[0m\n\u001b[0;32m--> 947\u001b[0;31m       \u001b[0;32mreturn\u001b[0m \u001b[0mself\u001b[0m\u001b[0;34m.\u001b[0m\u001b[0m_stateless_fn\u001b[0m\u001b[0;34m(\u001b[0m\u001b[0;34m*\u001b[0m\u001b[0margs\u001b[0m\u001b[0;34m,\u001b[0m \u001b[0;34m**\u001b[0m\u001b[0mkwds\u001b[0m\u001b[0;34m)\u001b[0m  \u001b[0;31m# pylint: disable=not-callable\u001b[0m\u001b[0;34m\u001b[0m\u001b[0;34m\u001b[0m\u001b[0m\n\u001b[0m\u001b[1;32m    948\u001b[0m     \u001b[0;32melif\u001b[0m \u001b[0mself\u001b[0m\u001b[0;34m.\u001b[0m\u001b[0m_stateful_fn\u001b[0m \u001b[0;32mis\u001b[0m \u001b[0;32mnot\u001b[0m \u001b[0;32mNone\u001b[0m\u001b[0;34m:\u001b[0m\u001b[0;34m\u001b[0m\u001b[0;34m\u001b[0m\u001b[0m\n\u001b[1;32m    949\u001b[0m       \u001b[0;31m# Release the lock early so that multiple threads can perform the call\u001b[0m\u001b[0;34m\u001b[0m\u001b[0;34m\u001b[0m\u001b[0;34m\u001b[0m\u001b[0m\n",
            "\u001b[0;32m/usr/local/lib/python3.8/dist-packages/tensorflow/python/eager/function.py\u001b[0m in \u001b[0;36m__call__\u001b[0;34m(self, *args, **kwargs)\u001b[0m\n\u001b[1;32m   2451\u001b[0m       (graph_function,\n\u001b[1;32m   2452\u001b[0m        filtered_flat_args) = self._maybe_define_function(args, kwargs)\n\u001b[0;32m-> 2453\u001b[0;31m     return graph_function._call_flat(\n\u001b[0m\u001b[1;32m   2454\u001b[0m         filtered_flat_args, captured_inputs=graph_function.captured_inputs)  # pylint: disable=protected-access\n\u001b[1;32m   2455\u001b[0m \u001b[0;34m\u001b[0m\u001b[0m\n",
            "\u001b[0;32m/usr/local/lib/python3.8/dist-packages/tensorflow/python/eager/function.py\u001b[0m in \u001b[0;36m_call_flat\u001b[0;34m(self, args, captured_inputs, cancellation_manager)\u001b[0m\n\u001b[1;32m   1858\u001b[0m         and executing_eagerly):\n\u001b[1;32m   1859\u001b[0m       \u001b[0;31m# No tape is watching; skip to running the function.\u001b[0m\u001b[0;34m\u001b[0m\u001b[0;34m\u001b[0m\u001b[0;34m\u001b[0m\u001b[0m\n\u001b[0;32m-> 1860\u001b[0;31m       return self._build_call_outputs(self._inference_function.call(\n\u001b[0m\u001b[1;32m   1861\u001b[0m           ctx, args, cancellation_manager=cancellation_manager))\n\u001b[1;32m   1862\u001b[0m     forward_backward = self._select_forward_and_backward_functions(\n",
            "\u001b[0;32m/usr/local/lib/python3.8/dist-packages/tensorflow/python/eager/function.py\u001b[0m in \u001b[0;36mcall\u001b[0;34m(self, ctx, args, cancellation_manager)\u001b[0m\n\u001b[1;32m    495\u001b[0m       \u001b[0;32mwith\u001b[0m \u001b[0m_InterpolateFunctionError\u001b[0m\u001b[0;34m(\u001b[0m\u001b[0mself\u001b[0m\u001b[0;34m)\u001b[0m\u001b[0;34m:\u001b[0m\u001b[0;34m\u001b[0m\u001b[0;34m\u001b[0m\u001b[0m\n\u001b[1;32m    496\u001b[0m         \u001b[0;32mif\u001b[0m \u001b[0mcancellation_manager\u001b[0m \u001b[0;32mis\u001b[0m \u001b[0;32mNone\u001b[0m\u001b[0;34m:\u001b[0m\u001b[0;34m\u001b[0m\u001b[0;34m\u001b[0m\u001b[0m\n\u001b[0;32m--> 497\u001b[0;31m           outputs = execute.execute(\n\u001b[0m\u001b[1;32m    498\u001b[0m               \u001b[0mstr\u001b[0m\u001b[0;34m(\u001b[0m\u001b[0mself\u001b[0m\u001b[0;34m.\u001b[0m\u001b[0msignature\u001b[0m\u001b[0;34m.\u001b[0m\u001b[0mname\u001b[0m\u001b[0;34m)\u001b[0m\u001b[0;34m,\u001b[0m\u001b[0;34m\u001b[0m\u001b[0;34m\u001b[0m\u001b[0m\n\u001b[1;32m    499\u001b[0m               \u001b[0mnum_outputs\u001b[0m\u001b[0;34m=\u001b[0m\u001b[0mself\u001b[0m\u001b[0;34m.\u001b[0m\u001b[0m_num_outputs\u001b[0m\u001b[0;34m,\u001b[0m\u001b[0;34m\u001b[0m\u001b[0;34m\u001b[0m\u001b[0m\n",
            "\u001b[0;32m/usr/local/lib/python3.8/dist-packages/tensorflow/python/eager/execute.py\u001b[0m in \u001b[0;36mquick_execute\u001b[0;34m(op_name, num_outputs, inputs, attrs, ctx, name)\u001b[0m\n\u001b[1;32m     52\u001b[0m   \u001b[0;32mtry\u001b[0m\u001b[0;34m:\u001b[0m\u001b[0;34m\u001b[0m\u001b[0;34m\u001b[0m\u001b[0m\n\u001b[1;32m     53\u001b[0m     \u001b[0mctx\u001b[0m\u001b[0;34m.\u001b[0m\u001b[0mensure_initialized\u001b[0m\u001b[0;34m(\u001b[0m\u001b[0;34m)\u001b[0m\u001b[0;34m\u001b[0m\u001b[0;34m\u001b[0m\u001b[0m\n\u001b[0;32m---> 54\u001b[0;31m     tensors = pywrap_tfe.TFE_Py_Execute(ctx._handle, device_name, op_name,\n\u001b[0m\u001b[1;32m     55\u001b[0m                                         inputs, attrs, num_outputs)\n\u001b[1;32m     56\u001b[0m   \u001b[0;32mexcept\u001b[0m \u001b[0mcore\u001b[0m\u001b[0;34m.\u001b[0m\u001b[0m_NotOkStatusException\u001b[0m \u001b[0;32mas\u001b[0m \u001b[0me\u001b[0m\u001b[0;34m:\u001b[0m\u001b[0;34m\u001b[0m\u001b[0;34m\u001b[0m\u001b[0m\n",
            "\u001b[0;31mKeyboardInterrupt\u001b[0m: "
          ]
        }
      ],
      "source": [
        "history = model.fit(\n",
        "            train_generator,#egitim verileri\n",
        "            steps_per_epoch=None,\n",
        "            epochs=2, #use 5 for vgg16\n",
        "            validation_data=validation_generator,\n",
        "            validation_steps=None,\n",
        "            verbose=1,\n",
        "            callbacks=[ReduceLROnPlateau(monitor='val_loss', factor=0.3,patience=3, min_lr=0.000001)],\n",
        "            shuffle=True\n",
        "            )"
      ]
    },
    {
      "cell_type": "code",
      "execution_count": null,
      "metadata": {
        "colab": {
          "base_uri": "https://localhost:8080/",
          "height": 545
        },
        "id": "a2dZq2TAoOSY",
        "outputId": "e21b3d6d-02e2-429b-f288-1775402c93af"
      },
      "outputs": [
        {
          "data": {
            "image/png": "[encoded data removed]",
            "text/plain": [
              "<Figure size 432x288 with 1 Axes>"
            ]
          },
          "metadata": {
            "needs_background": "light"
          },
          "output_type": "display_data"
        },
        {
          "data": {
            "image/png": "[encoded data removed]",
            "text/plain": [
              "<Figure size 432x288 with 1 Axes>"
            ]
          },
          "metadata": {
            "needs_background": "light"
          },
          "output_type": "display_data"
        }
      ],
      "source": [
        "pd.DataFrame(history.history)[['accuracy','val_accuracy']].plot()\n",
        "plt.title(\"Accuracy\")\n",
        "plt.show()\n",
        "\n",
        "pd.DataFrame(history.history)[['loss','val_loss']].plot()\n",
        "plt.title(\"Loss\")\n",
        "plt.show()"
      ]
    },
    {
      "cell_type": "code",
      "execution_count": 21,
      "metadata": {
        "colab": {
          "base_uri": "https://localhost:8080/"
        },
        "id": "ngHL5tGvoUkv",
        "outputId": "4b719e61-b61f-418c-8f5e-47e6ee6584aa"
      },
      "outputs": [
        {
          "name": "stdout",
          "output_type": "stream",
          "text": [
            "[INFO] Calculating model accuracy\n",
            "6/6 [==============================] - 77s 12s/step - loss: 0.6242 - accuracy: 0.6851\n",
            "Test Accuracy: 68.50828528404236\n"
          ]
        }
      ],
      "source": [
        "print(\"[INFO] Calculating model accuracy\")\n",
        "scores = model.evaluate(validation_generator)\n",
        "print(f\"Test Accuracy: {scores[1]*100}\")"
      ]
    },
    {
      "cell_type": "code",
      "execution_count": 22,
      "metadata": {
        "colab": {
          "base_uri": "https://localhost:8080/"
        },
        "id": "uLxqMWZqmFH8",
        "outputId": "f1cb21ea-dad2-4767-eab9-de30f3c9ba66"
      },
      "outputs": [
        {
          "name": "stdout",
          "output_type": "stream",
          "text": [
            "6/6 [==============================] - 76s 12s/step\n",
            "              precision    recall  f1-score   support\n",
            "\n",
            "     Class 0       0.18      0.09      0.12        33\n",
            "     Class 1       0.28      0.43      0.34        49\n",
            "     Class 2       0.55      0.49      0.52        99\n",
            "\n",
            "    accuracy                           0.40       181\n",
            "   macro avg       0.34      0.34      0.33       181\n",
            "weighted avg       0.41      0.40      0.40       181\n",
            "\n"
          ]
        }
      ],
      "source": [
        "predicted_classes = model.predict(test_generator)\n",
        "predicted_classes = np.argmax(predicted_classes, axis=1)\n",
        "\n",
        "num_classes = 3\n",
        "train_y=test_generator.classes\n",
        "target_names = [f\"Class {i}\" for i in range(num_classes)]\n",
        "\n",
        "print(classification_report(train_y, predicted_classes, target_names = target_names))"
      ]
    },
    {
      "cell_type": "code",
      "execution_count": 23,
      "metadata": {
        "colab": {
          "base_uri": "https://localhost:8080/"
        },
        "id": "K84_-aHb2j62",
        "outputId": "4e15aafe-fa42-40c1-9d1d-ac1b87d4cff2"
      },
      "outputs": [
        {
          "name": "stdout",
          "output_type": "stream",
          "text": [
            "6/6 [==============================] - 76s 12s/step\n",
            "0.5103821142782182\n"
          ]
        }
      ],
      "source": [
        "from sklearn.metrics import roc_auc_score\n",
        "print(roc_auc_score(train_y,  model.predict(test_generator), multi_class='ovo'));\n",
        "# print(model.evaluate(test_x, test_y, verbose=0)[0])"
      ]
    },
    {
      "cell_type": "code",
      "execution_count": null,
      "metadata": {
        "id": "6dKjgGCGrEbz"
      },
      "outputs": [],
      "source": [
        "model.save('inception.h5')"
      ]
    },
    {
      "cell_type": "code",
      "execution_count": null,
      "metadata": {
        "id": "skEpmTpCoYik"
      },
      "outputs": [],
      "source": [
        "classes=list(train_generator.class_indices.keys())\n",
        "# Pre-Processing test data same as train data.\n",
        "def prepare(img_path):\n",
        "    img = image.load_img(img_path, target_size=(224,224))\n",
        "    x = image.img_to_array(img)\n",
        "    x = x/255\n",
        "    return np.expand_dims(x, axis=0)\n",
        "    \n",
        "img_url='Train_Test_Folder/val/CLASS A/IMG_20220811_092509.jpg'\n",
        "model_result = model.predict([prepare(img_url)])\n",
        "disease=image.load_img(img_url)\n",
        "plt.imshow(disease)\n",
        "\n",
        "classresult=np.argmax(model_result,axis=1)\n",
        "print(classes[classresult[0]])"
      ]
    },
    {
      "cell_type": "code",
      "execution_count": 19,
      "metadata": {
        "id": "oC0fXV-s4CIl"
      },
      "outputs": [],
      "source": [
        "from tensorflow.keras.callbacks import EarlyStopping\n",
        "\n",
        "def init():\n",
        "    # our layers - you can add more if you want\n",
        "    model = add_custom_layers_VGG16()\n",
        "    model.compile(loss='categorical_crossentropy',optimizer='adam',metrics=['accuracy'])\n",
        "    return model\n",
        "\n",
        "\n",
        "def train(models):\n",
        "    losses = []\n",
        "    early_stop=EarlyStopping(monitor='val_loss',mode='min',verbose=1,patience=5)\n",
        "    for i in range(len(models)):\n",
        "        history =  models[i].fit(\n",
        "                    train_generator,#egitim verileri\n",
        "                    steps_per_epoch=None,\n",
        "                    epochs=2, #use 5 for vgg16\n",
        "                    validation_data=validation_generator,\n",
        "                    validation_steps=None,\n",
        "                    verbose=1,\n",
        "                    callbacks=[ReduceLROnPlateau(monitor='val_loss', factor=0.3,patience=3, min_lr=0.000001)],\n",
        "                    shuffle=True)\n",
        "        losses.append(round(history.history['loss'][-1], 4))\n",
        "    return models, losses"
      ]
    },
    {
      "cell_type": "code",
      "execution_count": 20,
      "metadata": {
        "colab": {
          "base_uri": "https://localhost:8080/"
        },
        "id": "RepaH4nQ5G8E",
        "outputId": "8c786e85-9362-428c-c66c-b3bedea93fa7"
      },
      "outputs": [
        {
          "name": "stdout",
          "output_type": "stream",
          "text": [
            "Epoch 1/2\n",
            "18/18 [==============================] - 312s 17s/step - loss: 1.9022 - accuracy: 0.5260 - val_loss: 0.7355 - val_accuracy: 0.6298 - lr: 0.0010\n",
            "Epoch 2/2\n",
            "18/18 [==============================] - 308s 17s/step - loss: 0.5771 - accuracy: 0.7587 - val_loss: 0.5289 - val_accuracy: 0.8066 - lr: 0.0010\n",
            "Epoch 1/2\n",
            "18/18 [==============================] - 310s 17s/step - loss: 1.8441 - accuracy: 0.6267 - val_loss: 0.5871 - val_accuracy: 0.7514 - lr: 0.0010\n",
            "Epoch 2/2\n",
            "18/18 [==============================] - 309s 17s/step - loss: 0.5084 - accuracy: 0.7969 - val_loss: 0.4752 - val_accuracy: 0.7956 - lr: 0.0010\n",
            "Epoch 1/2\n",
            "18/18 [==============================] - 311s 17s/step - loss: 2.3500 - accuracy: 0.5642 - val_loss: 0.8943 - val_accuracy: 0.6685 - lr: 0.0010\n",
            "Epoch 2/2\n",
            "18/18 [==============================] - 321s 18s/step - loss: 0.6601 - accuracy: 0.7656 - val_loss: 0.5499 - val_accuracy: 0.7956 - lr: 0.0010\n",
            "[0.5771, 0.5084, 0.6601]\n"
          ]
        }
      ],
      "source": [
        "import random\n",
        "\n",
        "no_of_generations = 1\n",
        "no_of_individuals = 3\n",
        "mutate_factor = 0.05\n",
        "individuals = []\n",
        "\n",
        "layers = []\n",
        "\n",
        "\n",
        "def mutate(new_individual):\n",
        "    for layer in layers:\n",
        "        for bias in range(len(new_individual.layers[layer].get_weights()[1])):\n",
        "            n = random.random()\n",
        "            if n < mutate_factor:\n",
        "                new_individual.layers[layer].get_weights(\n",
        "                )[1][bias] *= random.uniform(-0.5, 0.5)\n",
        "\n",
        "    for layer in layers:\n",
        "        for weight in new_individual.layers[layer].get_weights()[0]:\n",
        "            n = random.random()\n",
        "            if n < mutate_factor:\n",
        "                for j in range(len(weight)):\n",
        "                    if random.random() < mutate_factor:\n",
        "                        new_individual.layers[layer].get_weights(\n",
        "                        )[0][j] *= random.uniform(-0.5, 0.5)\n",
        "\n",
        "    return new_individual\n",
        "\n",
        "\n",
        "def crossover(individuals_param):\n",
        "    new_individuals = [individuals_param[0], individuals_param[1]]\n",
        "\n",
        "    for j in range(2, no_of_individuals):\n",
        "        if j < (no_of_individuals - 2):\n",
        "            if j == 2:\n",
        "                parentA = random.choice(individuals_param[:3])\n",
        "                parentB = random.choice(individuals_param[:3])\n",
        "            else:\n",
        "                parentA = random.choice(individuals_param[:])\n",
        "                parentB = random.choice(individuals_param[:])\n",
        "\n",
        "            for j in layers:\n",
        "                print(parentA.layers)\n",
        "                temp = parentA.layers[j].get_weights()[1]\n",
        "                parentA.layers[j].get_weights(\n",
        "                )[1] = parentB.layers[j].get_weights()[1]\n",
        "                parentB.layers[j].get_weights()[1] = temp\n",
        "\n",
        "            new_individual = random.choice([parentA, parentB])\n",
        "\n",
        "        else:\n",
        "            new_individual = random.choice(individuals_param[:])\n",
        "\n",
        "        new_individuals.append(mutate(new_individual))\n",
        "        new_individuals.append(new_individual)\n",
        "\n",
        "    return new_individuals\n",
        "\n",
        "\n",
        "def evolve(individuals_param, losses_param):\n",
        "    sorted_y_idx_list = sorted(range(len(losses_param)), key=lambda x: losses_param[x])\n",
        "    individuals_param = [individuals_param[x] for x in sorted_y_idx_list]\n",
        "\n",
        "    # winners = individuals[:6]\n",
        "\n",
        "    new_individuals = crossover(individuals_param)\n",
        "\n",
        "    return new_individuals\n",
        "\n",
        "\n",
        "\n",
        " #main ops\n",
        "for i in range(no_of_individuals):\n",
        "    individuals.append(init())\n",
        "\n",
        "for generation in range(no_of_generations):\n",
        "    individuals, losses = train(individuals)\n",
        "    print(losses)\n",
        "\n",
        "    individuals = evolve(individuals, losses)\n",
        "\n",
        "individuals[0].save(\"cnn.h5\")"
      ]
    }
  ],
  "metadata": {
    "accelerator": "GPU",
    "colab": {
      "provenance": [],
      "toc_visible": true
    },
    "gpuClass": "standard",
    "kernelspec": {
      "display_name": "Python 3.9.6 64-bit",
      "language": "python",
      "name": "python3"
    },
    "language_info": {
      "name": "python",
      "version": "3.9.6"
    },
    "vscode": {
      "interpreter": {
        "hash": "aee8b7b246df8f9039afb4144a1f6fd8d2ca17a180786b69acc140d282b71a49"
      }
    }
  },
  "nbformat": 4,
  "nbformat_minor": 0
}
