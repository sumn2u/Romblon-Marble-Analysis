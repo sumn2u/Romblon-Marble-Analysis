{
  "cells": [
    {
      "cell_type": "code",
      "execution_count": null,
      "metadata": {
        "colab": {
          "base_uri": "https://localhost:8080/"
        },
        "id": "4gr-Rl4OjaeW",
        "outputId": "42d2f313-773e-461b-c7b9-f62edd29aac6"
      },
      "outputs": [
        {
          "name": "stdout",
          "output_type": "stream",
          "text": [
            "Mounted at /content/drive\n"
          ]
        }
      ],
      "source": [
        "from google.colab import drive\n",
        "drive.mount('/content/drive')"
      ]
    },
    {
      "cell_type": "code",
      "execution_count": null,
      "metadata": {
        "id": "M5_SeJMKkwql"
      },
      "outputs": [],
      "source": [
        "!ls \"/content/drive/My Drive\""
      ]
    },
    {
      "cell_type": "code",
      "execution_count": null,
      "metadata": {
        "id": "HPc68OoGkz3V"
      },
      "outputs": [],
      "source": [
        "!cp -r \"/content/drive/My Drive/marble\" \"marble\""
      ]
    },
    {
      "cell_type": "code",
      "execution_count": null,
      "metadata": {
        "colab": {
          "base_uri": "https://localhost:8080/"
        },
        "id": "cR0gKH5GldtF",
        "outputId": "3f070b91-fd39-4177-8ce8-a60526f29176"
      },
      "outputs": [
        {
          "name": "stdout",
          "output_type": "stream",
          "text": [
            "'marble datasets'  'MINST Genetic Algorithm.ipynb'\n"
          ]
        }
      ],
      "source": [
        "!ls \"/content/marble\""
      ]
    },
    {
      "cell_type": "code",
      "execution_count": null,
      "metadata": {
        "colab": {
          "base_uri": "https://localhost:8080/"
        },
        "id": "3iS1_-Pz9F8Y",
        "outputId": "423910a3-42e5-4e97-a6c8-211b5e5def5a"
      },
      "outputs": [
        {
          "name": "stdout",
          "output_type": "stream",
          "text": [
            "Total number of images in CLASS A 164\n",
            "Total number of images in CLASS B 245\n",
            "Total number of images in CLASS C 494\n"
          ]
        }
      ],
      "source": [
        "# create final dataset.the training  dataset consits of (0.8 * 0.8 * T), the valdation dataset (0.2 * 0.8 * T) and (0.2 * T) testing images.\n",
        "\n",
        "from tensorflow.keras.layers import  Convolution2D, MaxPooling2D, Input, Lambda, Dense, Flatten, Dropout, BatchNormalization\n",
        "from tensorflow.keras.models import Model\n",
        "from tensorflow.keras.applications.vgg19 import VGG19\n",
        "from tensorflow.keras.applications.vgg16 import VGG16\n",
        "from tensorflow.keras.applications.inception_v3 import InceptionV3\n",
        "from tensorflow.keras.applications.resnet50 import ResNet50\n",
        "from tensorflow.keras.applications.vgg19 import preprocess_input\n",
        "from tensorflow.keras.preprocessing import image\n",
        "from tensorflow.keras.preprocessing.image import ImageDataGenerator\n",
        "from tensorflow.keras.models import Sequential\n",
        "from keras.callbacks import ReduceLROnPlateau\n",
        "from sklearn.metrics import classification_report\n",
        "\n",
        "import tensorflow as tf\n",
        "import numpy as np\n",
        "import pandas as pd\n",
        "import os\n",
        "import cv2\n",
        "import matplotlib.pyplot as plt\n",
        "import glob\n",
        "\n",
        "#count the number of images in respective directory\n",
        "import fnmatch\n",
        "print( \"Total number of images in CLASS A\", len(fnmatch.filter(os.listdir(\"/content/marble/marble datasets/CLASS A\"), '*.jpg')));\n",
        "print( \"Total number of images in CLASS B\", len(fnmatch.filter(os.listdir(\"/content/marble/marble datasets/CLASS B\"), '*.jpg')));\n",
        "print( \"Total number of images in CLASS C\", len(fnmatch.filter(os.listdir(\"/content/marble/marble datasets/CLASS C\"), '*.jpg')));"
      ]
    },
    {
      "cell_type": "code",
      "execution_count": null,
      "metadata": {
        "colab": {
          "base_uri": "https://localhost:8080/"
        },
        "id": "oTiOf2igAk1P",
        "outputId": "2559edab-ae75-43f1-9368-87ef703c4ebc"
      },
      "outputs": [
        {
          "name": "stdout",
          "output_type": "stream",
          "text": [
            "Looking in indexes: https://pypi.org/simple, https://us-python.pkg.dev/colab-wheels/public/simple/\n",
            "Collecting python_splitter\n",
            "  Downloading python_splitter-0.0.3-py3-none-any.whl (5.2 kB)\n",
            "Requirement already satisfied: numpy in /usr/local/lib/python3.7/dist-packages (from python_splitter) (1.21.6)\n",
            "Installing collected packages: python-splitter\n",
            "Successfully installed python-splitter-0.0.3\n",
            "✅Checking SOURCE directory...\n",
            "0.64 0.2 0.16\n",
            "✅Checking percentage validation...\n",
            "✅Making required directories...\n",
            "✅Shuffling data...\n",
            "✅Getting ready for copying files...\n",
            "\n",
            "-------------Successfully splitted !!!--------------- \n"
          ]
        }
      ],
      "source": [
        "# split dataset into train_test_folder\n",
        "! pip install python_splitter \n",
        "import python_splitter\n",
        "python_splitter.split_from_folder(\"/content/marble/marble datasets\", train=0.64, test=0.16, val=0.2)"
      ]
    },
    {
      "cell_type": "code",
      "execution_count": null,
      "metadata": {
        "id": "7hcFRc3vfAbI"
      },
      "outputs": [],
      "source": [
        "def get_files(directory):\n",
        "  if not os.path.exists(directory):\n",
        "    return 0\n",
        "  count=0\n",
        "  # crawls inside folders\n",
        "  for current_path,dirs,files in os.walk(directory):\n",
        "    for dr in dirs:\n",
        "      count+= len(glob.glob(os.path.join(current_path,dr+\"/*\")))\n",
        "  return count\n",
        "train_dir =\"Train_Test_Folder/train\"\n",
        "test_dir=\"Train_Test_Folder/test\""
      ]
    },
    {
      "cell_type": "code",
      "execution_count": null,
      "metadata": {
        "colab": {
          "base_uri": "https://localhost:8080/"
        },
        "id": "y821l6ryfMDe",
        "outputId": "213df642-0a17-490e-bb30-b88adcd42c9d"
      },
      "outputs": [
        {
          "name": "stdout",
          "output_type": "stream",
          "text": [
            "3 Classes\n",
            "576 Train images\n",
            "181 Test images\n"
          ]
        }
      ],
      "source": [
        "#train file image count\n",
        "train_samples =get_files(train_dir)\n",
        "#to get tags\n",
        "num_classes=len(glob.glob(train_dir+\"/*\")) \n",
        "#test file image count\n",
        "test_samples=get_files(test_dir)\n",
        "print(num_classes,\"Classes\")\n",
        "print(train_samples,\"Train images\")\n",
        "print(test_samples,\"Test images\")"
      ]
    },
    {
      "cell_type": "code",
      "execution_count": null,
      "metadata": {
        "id": "KCXlr76nfSpR"
      },
      "outputs": [],
      "source": [
        "train_datagen=ImageDataGenerator(\n",
        "    rescale=1./255,\n",
        "    shear_range=0.2,\n",
        "    zoom_range=0.2,\n",
        "    horizontal_flip=True\n",
        "    )\n",
        "test_datagen=ImageDataGenerator(rescale=1./255)\n"
      ]
    },
    {
      "cell_type": "code",
      "execution_count": null,
      "metadata": {
        "colab": {
          "base_uri": "https://localhost:8080/"
        },
        "id": "wXFANXL7fX7i",
        "outputId": "a4b0fdc7-9d2b-4d1a-cca5-c7d7fbaf6e21"
      },
      "outputs": [
        {
          "name": "stdout",
          "output_type": "stream",
          "text": [
            "Found 576 images belonging to 3 classes.\n",
            "Found 181 images belonging to 3 classes.\n"
          ]
        }
      ],
      "source": [
        "input_shape=(224,224,3)\n",
        "train_generator =train_datagen.flow_from_directory(train_dir,target_size=(224,224),batch_size=32)\n",
        "test_generator=test_datagen.flow_from_directory(test_dir,shuffle=True,target_size=(224,224),batch_size=32)"
      ]
    },
    {
      "cell_type": "code",
      "execution_count": null,
      "metadata": {
        "id": "f2J509p4fieb"
      },
      "outputs": [],
      "source": [
        "def create_Base_model_from_InceptionV3():\n",
        "    IMAGE_SIZE = [224, 224]\n",
        "    model_inceptionV3 = InceptionV3( \n",
        "        weights = \"imagenet\",# control point from which model is started\n",
        "        include_top=False, # to include/exclude the first 3 layers\n",
        "        input_shape = IMAGE_SIZE + [3],)\n",
        "    # We don't need to train existing weights\n",
        "    for layer in model_inceptionV3.layers:\n",
        "        layer.trainable = False\n",
        "    return model_inceptionV3"
      ]
    },
    {
      "cell_type": "code",
      "execution_count": null,
      "metadata": {
        "colab": {
          "base_uri": "https://localhost:8080/"
        },
        "id": "R41uU2PEnnHp",
        "outputId": "90258c8b-a96a-46a6-e355-335c90978c89"
      },
      "outputs": [
        {
          "name": "stdout",
          "output_type": "stream",
          "text": [
            "Downloading data from https://storage.googleapis.com/tensorflow/keras-applications/inception_v3/inception_v3_weights_tf_dim_ordering_tf_kernels_notop.h5\n",
            "87910968/87910968 [==============================] - 0s 0us/step\n"
          ]
        }
      ],
      "source": [
        "inception = create_Base_model_from_InceptionV3();\n",
        "x = Flatten()(inception.output)\n",
        "prediction = Dense(num_classes, activation='softmax')(x)\n",
        "model = Model(inputs=inception.input, outputs=prediction)"
      ]
    },
    {
      "cell_type": "code",
      "execution_count": null,
      "metadata": {
        "id": "QiEkE_n5rh0p"
      },
      "outputs": [],
      "source": [
        "def create_Base_model_from_VGG16():  \n",
        "    model = VGG16(\n",
        "        weights = \"imagenet\",\n",
        "        include_top=False, \n",
        "        input_shape = (224,224, 3) # goruntu boyutu\n",
        "        ) \n",
        "    for layer in model.layers:\n",
        "      layer.trainable = False\n",
        "    return model "
      ]
    },
    {
      "cell_type": "code",
      "execution_count": null,
      "metadata": {
        "id": "VRgEHCiQs2uH"
      },
      "outputs": [],
      "source": [
        "def add_custom_layers_VGG16():\n",
        "    model = create_Base_model_from_VGG16()\n",
        "    x = model.output\n",
        "    x = tf.keras.layers.Flatten()(x)\n",
        "    x = tf.keras.layers.Dense(256, activation=\"relu\")(x)\n",
        "    predictions = tf.keras.layers.Dense(num_classes, activation=\"softmax\")(x)   \n",
        "    # creating the final model \n",
        "    final_model = tf.keras.models.Model(\n",
        "        inputs = model.input, \n",
        "        outputs = predictions)\n",
        "     \n",
        "  \n",
        "    return final_model\n",
        "\n",
        "# add_custom_layers_VGG16().summary()"
      ]
    },
    {
      "cell_type": "code",
      "execution_count": null,
      "metadata": {
        "id": "szO5Ew9CxCFM"
      },
      "outputs": [],
      "source": [
        "def create_Base_model_from_VGG19():  \n",
        "    model_vgg19 = VGG19(\n",
        "        weights = \"imagenet\",# control point from which model is started\n",
        "        include_top=False, # to include/exclude the first 3 layers\n",
        "        input_shape = (224,224, 3)) # image size\n",
        "    # don't train existing weights \n",
        "    for layer in model_vgg19.layers:\n",
        "      layer.trainable = False\n",
        "    return model_vgg19 \n",
        "# create_Base_model_from_VGG19().summary()"
      ]
    },
    {
      "cell_type": "code",
      "execution_count": null,
      "metadata": {
        "id": "eMlpaKuGxLC1"
      },
      "outputs": [],
      "source": [
        "def add_custom_layers_vgg19():\n",
        "    #Adding custom Layers \n",
        "    model_vgg19 = create_Base_model_from_VGG19()\n",
        "    x = model_vgg19.output\n",
        "    x = tf.keras.layers.Flatten()(x)\n",
        "    x = tf.keras.layers.Dense(256, activation=\"relu\")(x)\n",
        "    predictions = tf.keras.layers.Dense(num_classes, activation=\"softmax\")(x)   \n",
        "    # creating the final model \n",
        "    final_model = tf.keras.models.Model(\n",
        "        inputs = model_vgg19.input, \n",
        "        outputs = predictions)\n",
        "     \n",
        "    final_model.compile(loss='categorical_crossentropy', optimizer='adam', metrics=['accuracy'])  \n",
        "    return final_model\n",
        "\n",
        "# add_custom_layers_vgg19().summary()"
      ]
    },
    {
      "cell_type": "code",
      "execution_count": null,
      "metadata": {
        "colab": {
          "base_uri": "https://localhost:8080/"
        },
        "id": "lgYN0PVqzm8V",
        "outputId": "3ae803d2-3d7a-415f-de89-b2e71f486282"
      },
      "outputs": [
        {
          "name": "stdout",
          "output_type": "stream",
          "text": [
            "Downloading data from https://storage.googleapis.com/tensorflow/keras-applications/resnet/resnet50_weights_tf_dim_ordering_tf_kernels_notop.h5\n",
            "94765736/94765736 [==============================] - 1s 0us/step\n"
          ]
        }
      ],
      "source": [
        "def create_Base_model_from_ResNet50():\n",
        "    model_resNet50 = ResNet50( \n",
        "        weights = \"imagenet\",# control point from which model is started\n",
        "        include_top=False,\n",
        "        pooling='avg',\n",
        "        input_shape = (224,224, 3))\n",
        "    # We don't need to train existing weights\n",
        "    model_resNet50.trainable = False\n",
        "    return model_resNet50\n",
        "\n",
        "\n",
        "pretrained_model= create_Base_model_from_ResNet50()\n",
        "inputs = pretrained_model.input\n",
        "\n",
        "x = Dense(128, activation='relu')(pretrained_model.output)\n",
        "x = Dense(128, activation='relu')(x)\n",
        "\n",
        "outputs = Dense(num_classes, activation='softmax')(x)\n",
        "\n",
        "model = Model(inputs=inputs, outputs=outputs)"
      ]
    },
    {
      "cell_type": "code",
      "execution_count": null,
      "metadata": {
        "id": "9eE9jwAU5qS4"
      },
      "outputs": [],
      "source": [
        "\n",
        "def alexnet():\n",
        "    #Adding custom Layers \n",
        "    # Initializing the CNN\n",
        "    model = Sequential()\n",
        "    # Convolution Step 1\n",
        "    model.add(Convolution2D(96, 11, strides = (4, 4), padding = 'valid', input_shape=(224, 224, 3), activation = 'relu'))\n",
        "    # Max Pooling Step 1\n",
        "    model.add(MaxPooling2D(pool_size = (2, 2), strides = (2, 2), padding = 'valid'))\n",
        "    model.add(BatchNormalization())\n",
        "    # Convolution Step 2\n",
        "    model.add(Convolution2D(256, 11, strides = (1, 1), padding='valid', activation = 'relu'))\n",
        "    # Max Pooling Step 2\n",
        "    model.add(MaxPooling2D(pool_size = (2, 2), strides = (2, 2), padding='valid'))\n",
        "    model.add(BatchNormalization())\n",
        "    # Convolution Step 3\n",
        "    model.add(Convolution2D(384, 3, strides = (1, 1), padding='valid', activation = 'relu'))\n",
        "    model.add(BatchNormalization())\n",
        "    # Convolution Step 4\n",
        "    model.add(Convolution2D(384, 3, strides = (1, 1), padding='valid', activation = 'relu'))\n",
        "    model.add(BatchNormalization())\n",
        "    # Convolution Step 5\n",
        "    model.add(Convolution2D(256, 3, strides=(1,1), padding='valid', activation = 'relu'))\n",
        "    # Max Pooling Step 3\n",
        "    model.add(MaxPooling2D(pool_size = (2, 2), strides = (2, 2), padding = 'valid'))\n",
        "    model.add(BatchNormalization())\n",
        "    # Flattening Step\n",
        "    model.add(Flatten())\n",
        "    # Full Connection Step\n",
        "    model.add(Dense(units = 4096, activation = 'relu'))\n",
        "    model.add(Dropout(0.4))\n",
        "    model.add(BatchNormalization())\n",
        "    model.add(Dense(units = 4096, activation = 'relu'))\n",
        "    model.add(Dropout(0.4))\n",
        "    model.add(BatchNormalization())\n",
        "    model.add(Dense(units = 1000, activation = 'relu'))\n",
        "    model.add(Dropout(0.2))\n",
        "    model.add(BatchNormalization())\n",
        "    model.add(Dense(units = num_classes, activation = 'softmax'))\n",
        "    \n",
        "    return model\n",
        "\n",
        "# add_custom_layers_vgg19().summary()"
      ]
    },
    {
      "cell_type": "code",
      "execution_count": null,
      "metadata": {
        "id": "3M5V2qjhsMhO"
      },
      "outputs": [],
      "source": [
        "# model = add_custom_layers_vgg19()\n",
        "# model = add_custom_layers()\n",
        "model = alexnet()"
      ]
    },
    {
      "cell_type": "code",
      "execution_count": null,
      "metadata": {
        "id": "bX-K1e4anv3D"
      },
      "outputs": [],
      "source": [
        "model.compile(loss='categorical_crossentropy',optimizer='adam',metrics=['accuracy'])"
      ]
    },
    {
      "cell_type": "code",
      "execution_count": null,
      "metadata": {
        "colab": {
          "base_uri": "https://localhost:8080/"
        },
        "id": "dM8urCc_fqZP",
        "outputId": "6f0b5542-a126-484b-c214-d2f6f31d14e8"
      },
      "outputs": [
        {
          "name": "stdout",
          "output_type": "stream",
          "text": [
            "Found 181 images belonging to 3 classes.\n"
          ]
        }
      ],
      "source": [
        "validation_generator = train_datagen.flow_from_directory(\n",
        "                       test_dir,\n",
        "                       target_size=(224, 224),\n",
        "                       batch_size=32)"
      ]
    },
    {
      "cell_type": "code",
      "execution_count": null,
      "metadata": {
        "colab": {
          "base_uri": "https://localhost:8080/"
        },
        "id": "ghhC9PH5gGQb",
        "outputId": "580a8375-34ad-49cf-bdea-5b759ffe23e2"
      },
      "outputs": [
        {
          "name": "stdout",
          "output_type": "stream",
          "text": [
            "Found 576 images belonging to 3 classes.\n"
          ]
        }
      ],
      "source": [
        "train_generator =train_datagen.flow_from_directory(train_dir,target_size=(224,224),batch_size=32)"
      ]
    },
    {
      "cell_type": "code",
      "execution_count": null,
      "metadata": {
        "colab": {
          "base_uri": "https://localhost:8080/"
        },
        "id": "n9YfB94nf-kS",
        "outputId": "deaff782-206c-4acf-be6c-ca651b7a8c17"
      },
      "outputs": [
        {
          "name": "stdout",
          "output_type": "stream",
          "text": [
            "Epoch 1/2\n",
            "18/18 [==============================] - 184s 10s/step - loss: 2.5447 - accuracy: 0.5278 - val_loss: 190.7420 - val_accuracy: 0.2707 - lr: 0.0010\n",
            "Epoch 2/2\n",
            "18/18 [==============================] - 180s 10s/step - loss: 1.3268 - accuracy: 0.5851 - val_loss: 159.7000 - val_accuracy: 0.2707 - lr: 0.0010\n"
          ]
        }
      ],
      "source": [
        "history = model.fit(\n",
        "            train_generator,#egitim verileri\n",
        "            steps_per_epoch=None,\n",
        "            epochs=2, #use 5 for vgg16\n",
        "            validation_data=validation_generator,\n",
        "            validation_steps=None,\n",
        "            verbose=1,\n",
        "            callbacks=[ReduceLROnPlateau(monitor='val_loss', factor=0.3,patience=3, min_lr=0.000001)],\n",
        "            shuffle=True\n",
        "            )"
      ]
    },
    {
      "cell_type": "code",
      "execution_count": null,
      "metadata": {
        "colab": {
          "base_uri": "https://localhost:8080/",
          "height": 545
        },
        "id": "a2dZq2TAoOSY",
        "outputId": "fd7aee1b-00fe-42ed-fa6e-941935216a32"
      },
      "outputs": [
        {
          "data": {
            "image/png": "[encoded data removed]",
            "text/plain": [
              "<Figure size 432x288 with 1 Axes>"
            ]
          },
          "metadata": {},
          "output_type": "display_data"
        },
        {
          "data": {
            "image/png": "[encoded data removed]",
            "text/plain": [
              "<Figure size 432x288 with 1 Axes>"
            ]
          },
          "metadata": {},
          "output_type": "display_data"
        }
      ],
      "source": [
        "pd.DataFrame(history.history)[['accuracy','val_accuracy']].plot()\n",
        "plt.title(\"Accuracy\")\n",
        "plt.show()\n",
        "\n",
        "pd.DataFrame(history.history)[['loss','val_loss']].plot()\n",
        "plt.title(\"Loss\")\n",
        "plt.show()"
      ]
    },
    {
      "cell_type": "code",
      "execution_count": null,
      "metadata": {
        "colab": {
          "base_uri": "https://localhost:8080/"
        },
        "id": "ngHL5tGvoUkv",
        "outputId": "36ddfdc1-9341-40d4-afef-5956f656e407"
      },
      "outputs": [
        {
          "name": "stdout",
          "output_type": "stream",
          "text": [
            "[INFO] Calculating model accuracy\n",
            "6/6 [==============================] - 31s 5s/step - loss: 160.3827 - accuracy: 0.2707\n",
            "Test Accuracy: 27.07182466983795\n"
          ]
        }
      ],
      "source": [
        "print(\"[INFO] Calculating model accuracy\")\n",
        "scores = model.evaluate(validation_generator)\n",
        "print(f\"Test Accuracy: {scores[1]*100}\")"
      ]
    },
    {
      "cell_type": "code",
      "execution_count": null,
      "metadata": {
        "colab": {
          "base_uri": "https://localhost:8080/"
        },
        "id": "uLxqMWZqmFH8",
        "outputId": "6bbd82e1-72fb-40ad-fda4-4149949c5931"
      },
      "outputs": [
        {
          "name": "stdout",
          "output_type": "stream",
          "text": [
            "6/6 [==============================] - 19s 3s/step\n",
            "              precision    recall  f1-score   support\n",
            "\n",
            "     Class 0       0.00      0.00      0.00        33\n",
            "     Class 1       0.27      1.00      0.43        49\n",
            "     Class 2       0.00      0.00      0.00        99\n",
            "\n",
            "    accuracy                           0.27       181\n",
            "   macro avg       0.09      0.33      0.14       181\n",
            "weighted avg       0.07      0.27      0.12       181\n",
            "\n"
          ]
        },
        {
          "name": "stderr",
          "output_type": "stream",
          "text": [
            "/usr/local/lib/python3.7/dist-packages/sklearn/metrics/_classification.py:1318: UndefinedMetricWarning: Precision and F-score are ill-defined and being set to 0.0 in labels with no predicted samples. Use `zero_division` parameter to control this behavior.\n",
            "  _warn_prf(average, modifier, msg_start, len(result))\n",
            "/usr/local/lib/python3.7/dist-packages/sklearn/metrics/_classification.py:1318: UndefinedMetricWarning: Precision and F-score are ill-defined and being set to 0.0 in labels with no predicted samples. Use `zero_division` parameter to control this behavior.\n",
            "  _warn_prf(average, modifier, msg_start, len(result))\n",
            "/usr/local/lib/python3.7/dist-packages/sklearn/metrics/_classification.py:1318: UndefinedMetricWarning: Precision and F-score are ill-defined and being set to 0.0 in labels with no predicted samples. Use `zero_division` parameter to control this behavior.\n",
            "  _warn_prf(average, modifier, msg_start, len(result))\n"
          ]
        }
      ],
      "source": [
        "predicted_classes = model.predict(test_generator)\n",
        "predicted_classes = np.argmax(predicted_classes, axis=1)\n",
        "\n",
        "num_classes = 3\n",
        "train_y=test_generator.classes\n",
        "target_names = [f\"Class {i}\" for i in range(num_classes)]\n",
        "\n",
        "print(classification_report(train_y, predicted_classes, target_names = target_names))"
      ]
    },
    {
      "cell_type": "code",
      "execution_count": null,
      "metadata": {
        "id": "6dKjgGCGrEbz"
      },
      "outputs": [],
      "source": [
        "model.save('inception.h5')"
      ]
    },
    {
      "cell_type": "code",
      "execution_count": null,
      "metadata": {
        "id": "skEpmTpCoYik"
      },
      "outputs": [],
      "source": [
        "classes=list(train_generator.class_indices.keys())\n",
        "# Pre-Processing test data same as train data.\n",
        "def prepare(img_path):\n",
        "    img = image.load_img(img_path, target_size=(224,224))\n",
        "    x = image.img_to_array(img)\n",
        "    x = x/255\n",
        "    return np.expand_dims(x, axis=0)\n",
        "    \n",
        "img_url='Train_Test_Folder/val/CLASS A/IMG_20220811_092509.jpg'\n",
        "model_result = model.predict([prepare(img_url)])\n",
        "disease=image.load_img(img_url)\n",
        "plt.imshow(disease)\n",
        "\n",
        "classresult=np.argmax(model_result,axis=1)\n",
        "print(classes[classresult[0]])"
      ]
    }
  ],
  "metadata": {
    "accelerator": "GPU",
    "colab": {
      "provenance": []
    },
    "gpuClass": "standard",
    "kernelspec": {
      "display_name": "Python 3.9.6 64-bit",
      "language": "python",
      "name": "python3"
    },
    "language_info": {
      "name": "python",
      "version": "3.9.6"
    },
    "vscode": {
      "interpreter": {
        "hash": "aee8b7b246df8f9039afb4144a1f6fd8d2ca17a180786b69acc140d282b71a49"
      }
    }
  },
  "nbformat": 4,
  "nbformat_minor": 0
}
